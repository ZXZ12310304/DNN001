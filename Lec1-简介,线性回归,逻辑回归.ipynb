{
 "cells": [
  {
   "cell_type": "markdown",
   "metadata": {},
   "source": [
    "## Lec 1. Intro\n",
    "\n",
    "- DNN101 (Deep Neural Network)\n",
    "- Artificial Intelligence `人工智能`\n",
    "    - 专家系统\n",
    "    - Machine Learning `机器学习` (scikit-learning)\n",
    "        - 线性回归, 逻辑回归\n",
    "        - 朴素贝叶斯\n",
    "        - 决策树\n",
    "        - 集成模型: 随机森林, XGBoosting, LightGBM, .......\n",
    "        - 多层感知机 MLP (神经网络)\n",
    "            - Deep Learning `深度学习`\n",
    "---\n",
    "- 机器学习模型分类\n",
    "    - 有监督学习\n",
    "        - Regression 回归模型\n",
    "        - Classification 分类模型\n",
    "        - Generative 生成式模型\n",
    "    - 无监督学习\n",
    "        - Clustering 聚类模型\n",
    "        - Reinforcement Learning 强化学习\n",
    "- 常见算法领域\n",
    "    - Computer Vision 计算机视觉\n",
    "    - Nature Language Processing 自然语言处理\n",
    "    - Recommendation System 推荐系统\n",
    "    - Reinforcement Learning 强化学习\n",
    "    - .......\n",
    "- 深度学习常用框架\n",
    "    - tensorflow\n",
    "    - **pytorch**\n",
    "    - mxnet\n",
    "    - paddle\n",
    "---\n",
    "### 1.1 课程计划\n",
    "- Linear Neural Network\n",
    "- CNN\n",
    "- (Diffusion)\n",
    "- RNN\n",
    "- Transformer"
   ]
  },
  {
   "cell_type": "markdown",
   "metadata": {},
   "source": [
    "### 1.2 Linear Regression 线性回归 & Linear Neural Network 线性神经网络\n",
    "\n",
    "`f(x) = x*weight + bias`"
   ]
  },
  {
   "cell_type": "code",
   "execution_count": 1,
   "metadata": {},
   "outputs": [],
   "source": [
    "import torch\n",
    "import numpy as np"
   ]
  },
  {
   "cell_type": "code",
   "execution_count": 2,
   "metadata": {},
   "outputs": [],
   "source": [
    "def linear_regression(x: float) -> float:\n",
    "    \"\"\" 线性回归函数 \"\"\"\n",
    "    weight = 5\n",
    "    bias = 2\n",
    "    return x * weight + bias"
   ]
  },
  {
   "cell_type": "code",
   "execution_count": 5,
   "metadata": {},
   "outputs": [
    {
     "data": {
      "text/plain": [
       "17"
      ]
     },
     "execution_count": 5,
     "metadata": {},
     "output_type": "execute_result"
    }
   ],
   "source": [
    "linear_regression(3)"
   ]
  },
  {
   "cell_type": "code",
   "execution_count": 7,
   "metadata": {},
   "outputs": [
    {
     "data": {
      "text/plain": [
       "tensor([1, 2, 3])"
      ]
     },
     "execution_count": 7,
     "metadata": {},
     "output_type": "execute_result"
    }
   ],
   "source": [
    "[1, 2, 3]  # 列表\n",
    "np.array([1, 2, 3])  # 向量\n",
    "torch.tensor([1, 2, 3])  # 张量"
   ]
  },
  {
   "cell_type": "code",
   "execution_count": 9,
   "metadata": {},
   "outputs": [
    {
     "data": {
      "text/plain": [
       "tensor([[1.3152, 0.6238, 0.2913, 0.7146, 1.0038],\n",
       "        [1.7549, 0.9517, 0.4323, 0.9960, 1.3141]])"
      ]
     },
     "execution_count": 9,
     "metadata": {},
     "output_type": "execute_result"
    }
   ],
   "source": [
    "torch.matmul(torch.rand(2, 3), torch.rand(3, 5))"
   ]
  },
  {
   "cell_type": "code",
   "execution_count": 11,
   "metadata": {},
   "outputs": [
    {
     "data": {
      "text/plain": [
       "tensor([[1.1148, 1.4050, 0.8204, 1.3057, 0.8682],\n",
       "        [1.0493, 1.5238, 1.1239, 1.5164, 1.0002]])"
      ]
     },
     "execution_count": 11,
     "metadata": {},
     "output_type": "execute_result"
    }
   ],
   "source": [
    "torch.rand(2, 3) @ torch.rand(3, 5) "
   ]
  },
  {
   "cell_type": "code",
   "execution_count": 13,
   "metadata": {},
   "outputs": [
    {
     "data": {
      "text/plain": [
       "tensor([[0.4898, 0.9592, 0.3476],\n",
       "        [0.0906, 0.1033, 0.8779]])"
      ]
     },
     "execution_count": 13,
     "metadata": {},
     "output_type": "execute_result"
    }
   ],
   "source": [
    "x = torch.rand(2, 3)\n",
    "x"
   ]
  },
  {
   "cell_type": "code",
   "execution_count": 15,
   "metadata": {},
   "outputs": [
    {
     "data": {
      "text/plain": [
       "Parameter containing:\n",
       "tensor([[0.4898, 0.9592, 0.3476],\n",
       "        [0.0906, 0.1033, 0.8779]], requires_grad=True)"
      ]
     },
     "execution_count": 15,
     "metadata": {},
     "output_type": "execute_result"
    }
   ],
   "source": [
    "torch.nn.Parameter(x)"
   ]
  },
  {
   "cell_type": "code",
   "execution_count": 17,
   "metadata": {},
   "outputs": [],
   "source": [
    "def linear_neural_network(x: torch.tensor) -> torch.tensor:\n",
    "    \"\"\" 线性神经网络运算函数 \"\"\"\n",
    "    weight = torch.nn.Parameter(torch.rand(3, 5))\n",
    "    bias = torch.nn.Parameter(torch.rand(5))\n",
    "    return x @ weight + bias"
   ]
  },
  {
   "cell_type": "code",
   "execution_count": 19,
   "metadata": {},
   "outputs": [
    {
     "data": {
      "text/plain": [
       "tensor([[6.0598, 2.6760, 3.8940],\n",
       "        [6.9256, 2.6428, 5.3854]])"
      ]
     },
     "execution_count": 19,
     "metadata": {},
     "output_type": "execute_result"
    }
   ],
   "source": [
    "linear_regression(torch.rand(2, 3))"
   ]
  },
  {
   "cell_type": "code",
   "execution_count": 21,
   "metadata": {},
   "outputs": [],
   "source": [
    "class Linear(torch.nn.Module):\n",
    "    \"\"\" 线性神经网络 \"\"\"\n",
    "    def __init__(self, in_features, out_features):\n",
    "        super().__init__()\n",
    "        self.weight = torch.nn.Parameter(torch.rand(in_features, out_features))\n",
    "        self.bias = torch.nn.Parameter(torch.rand(out_features))\n",
    "        \n",
    "    def forward(self, x):\n",
    "        return x @ self.weight + self.bias"
   ]
  },
  {
   "cell_type": "code",
   "execution_count": 23,
   "metadata": {},
   "outputs": [],
   "source": [
    "x = torch.rand(3, 3)"
   ]
  },
  {
   "cell_type": "code",
   "execution_count": 37,
   "metadata": {},
   "outputs": [
    {
     "data": {
      "text/plain": [
       "tensor([[1.0895, 1.5341, 1.8433, 1.0068, 0.5544],\n",
       "        [0.5773, 1.1435, 1.2999, 0.7613, 0.2236],\n",
       "        [0.9617, 1.1965, 1.4191, 0.6346, 0.4476]], grad_fn=<AddBackward0>)"
      ]
     },
     "execution_count": 37,
     "metadata": {},
     "output_type": "execute_result"
    }
   ],
   "source": [
    "model = Linear(3, 5)\n",
    "output = model(x)\n",
    "output"
   ]
  },
  {
   "cell_type": "code",
   "execution_count": 39,
   "metadata": {},
   "outputs": [
    {
     "data": {
      "text/plain": [
       "(Parameter containing:\n",
       " tensor([[0.9009, 0.1474, 0.5372, 0.0276, 0.6027],\n",
       "         [0.1319, 0.2378, 0.6716, 0.7103, 0.2194],\n",
       "         [0.6338, 0.8008, 0.5403, 0.0572, 0.2729]], requires_grad=True),\n",
       " Parameter containing:\n",
       " tensor([0.2025, 0.6693, 0.8108, 0.5105, 0.0068], requires_grad=True))"
      ]
     },
     "execution_count": 39,
     "metadata": {},
     "output_type": "execute_result"
    }
   ],
   "source": [
    "model.weight, model.bias"
   ]
  },
  {
   "cell_type": "markdown",
   "metadata": {},
   "source": [
    "### 1.3 逻辑回归模型"
   ]
  },
  {
   "cell_type": "code",
   "execution_count": 41,
   "metadata": {},
   "outputs": [],
   "source": [
    "import torch.nn.functional as F\n",
    "\n",
    "class LogisticRegression(torch.nn.Module):\n",
    "    \"\"\" 逻辑回归模型 \"\"\"\n",
    "    def __init__(self):\n",
    "        super().__init__()\n",
    "        self.fc = torch.nn.Linear(1, 1)\n",
    "        \n",
    "    def forward(self, x):\n",
    "        \"\"\" 前向传播 \"\"\"\n",
    "        return F.sigmoid(self.fc(x))"
   ]
  },
  {
   "cell_type": "code",
   "execution_count": 43,
   "metadata": {},
   "outputs": [],
   "source": [
    "# 生成数据集 dataset\n",
    "x = torch.Tensor([[1.0], [2.0], [3.0]])\n",
    "y = torch.Tensor([[0], [0], [1]])"
   ]
  },
  {
   "cell_type": "code",
   "execution_count": 45,
   "metadata": {},
   "outputs": [],
   "source": [
    "model = LogisticRegression()\n",
    "loss_func = torch.nn.BCELoss()\n",
    "optimizer = torch.optim.Adam(model.parameters(), lr=1e-2)"
   ]
  },
  {
   "cell_type": "code",
   "execution_count": 47,
   "metadata": {},
   "outputs": [],
   "source": [
    "total_loss = []\n",
    "for i in range(5000):\n",
    "    # forward\n",
    "    y_hat = model(x)\n",
    "    loss = loss_func(y_hat, y)\n",
    "    \n",
    "    # backward\n",
    "    optimizer.zero_grad()\n",
    "    loss.backward()\n",
    "    \n",
    "    # update\n",
    "    optimizer.step()\n",
    "    total_loss.append(loss.item())"
   ]
  },
  {
   "cell_type": "code",
   "execution_count": 49,
   "metadata": {},
   "outputs": [
    {
     "data": {
      "image/png": "[encoded data removed]",
      "text/plain": [
       "<Figure size 800x400 with 1 Axes>"
      ]
     },
     "metadata": {},
     "output_type": "display_data"
    }
   ],
   "source": [
    "import matplotlib.pyplot as plt\n",
    "\n",
    "plt.figure(figsize=(8, 4))\n",
    "plt.plot(total_loss, label=\"train loss\")\n",
    "plt.title(\"Logistic Regression Train Loss\")\n",
    "plt.legend()\n",
    "plt.grid()\n",
    "plt.show()"
   ]
  },
  {
   "cell_type": "code",
   "execution_count": 51,
   "metadata": {},
   "outputs": [
    {
     "data": {
      "image/png": "[encoded data removed]",
      "text/plain": [
       "<Figure size 640x480 with 1 Axes>"
      ]
     },
     "metadata": {},
     "output_type": "display_data"
    }
   ],
   "source": [
    "x_t = torch.Tensor(np.linspace(0, 10, 200)).view(200, 1) #生成一个长度为200的Numpy数组数值均匀分布在[0,10]区间内，将张量调整为200行1列\n",
    "y_hat = model(x_t)\n",
    "\n",
    "plt.plot(x_t.data.numpy(), y_hat.data.numpy())\n",
    "plt.plot([0, 10], [0.5, 0.5], c='r')\n",
    "plt.grid()"
   ]
  },
  {
   "cell_type": "code",
   "execution_count": null,
   "metadata": {},
   "outputs": [],
   "source": []
  }
 ],
 "metadata": {
  "kernelspec": {
   "display_name": "pytorch",
   "language": "python",
   "name": "pytorch"
  },
  "language_info": {
   "codemirror_mode": {
    "name": "ipython",
    "version": 3
   },
   "file_extension": ".py",
   "mimetype": "text/x-python",
   "name": "python",
   "nbconvert_exporter": "python",
   "pygments_lexer": "ipython3",
   "version": "3.9.21"
  }
 },
 "nbformat": 4,
 "nbformat_minor": 4
}
