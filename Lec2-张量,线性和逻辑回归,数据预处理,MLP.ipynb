{
 "cells": [
  {
   "cell_type": "markdown",
   "id": "c3b9c1c5-0c97-437a-a775-f196a371e17a",
   "metadata": {},
   "source": [
    "## 张量（Tensor）\n",
    "\n",
    "- 0维张量（标量）：一个数，例如5\n",
    "- 1维张量（向量）：一个数字列表，例如[1, 2, 3]\n",
    "- 2维张量（矩阵）：类似表格或图像，例如[[1, 2], [3, 4]]\n",
    "- 更高维的张量：如3维张量表示彩色图像（宽 x 高 x 颜色通道），4维张量用于批量处理多张图像 （批 x 宽 x 高 x 颜色通道）\n",
    "\n",
    "**在深度学习中**\n",
    "1. 输入数据：例如图像处理为 batch x 宽 x 高 x 通道 的4维张量\n",
    "2. 模型参数\n",
    "3. 中间计算\n",
    "4. 损失函数\n",
    "\n",
    "统一表示各类数据：\n",
    "- 输入数据（图像、文本）-> 张量\n",
    "- 神经网络的权重、偏置 -> 张量\n",
    "- 中间激活值、输出结果 -> 张量\n",
    "  \n",
    "**避免了转换开销**"
   ]
  },
  {
   "cell_type": "code",
   "execution_count": 3,
   "id": "94d5504f-8d3d-49f9-b0b3-900686ece41a",
   "metadata": {},
   "outputs": [
    {
     "data": {
      "text/plain": [
       "tensor([1, 2, 3, 4])"
      ]
     },
     "execution_count": 3,
     "metadata": {},
     "output_type": "execute_result"
    }
   ],
   "source": [
    "import torch\n",
    "\n",
    "t1 = torch.tensor([1, 2, 3, 4])\n",
    "t1"
   ]
  },
  {
   "cell_type": "code",
   "execution_count": 4,
   "id": "f676077a-6274-4e7e-83ca-ce5183d9ba4c",
   "metadata": {},
   "outputs": [
    {
     "data": {
      "text/plain": [
       "tensor([[1, 2],\n",
       "        [3, 4]])"
      ]
     },
     "execution_count": 4,
     "metadata": {},
     "output_type": "execute_result"
    }
   ],
   "source": [
    "t2 = torch.tensor([[1, 2], [3, 4]])\n",
    "t2"
   ]
  },
  {
   "cell_type": "code",
   "execution_count": 11,
   "id": "ce6e0908-23b7-448e-8cde-a098261cc4fc",
   "metadata": {},
   "outputs": [
    {
     "data": {
      "text/plain": [
       "tensor([[0.9262, 0.9437],\n",
       "        [0.1697, 0.2542]])"
      ]
     },
     "execution_count": 11,
     "metadata": {},
     "output_type": "execute_result"
    }
   ],
   "source": [
    "# 特殊方法创建张量\n",
    "\n",
    "# 全0张量\n",
    "t3 = torch.zeros(3, 3)\n",
    "\n",
    "# 全1张量\n",
    "t4 = torch.ones(2, 4)\n",
    "\n",
    "# 随机张量\n",
    "t5 = torch.rand(2, 2)\n",
    "t5"
   ]
  },
  {
   "cell_type": "code",
   "execution_count": 15,
   "id": "25ab8cb9-a3f7-4697-8247-62efadc4e9e1",
   "metadata": {},
   "outputs": [],
   "source": [
    "## 张量和Numpy的转换\n",
    "import numpy as np\n",
    "\n",
    "# Pytorch转Numpy\n",
    "t = torch.tensor([1, 2, 3])\n",
    "np_arr = t.numpy()\n",
    "\n",
    "# Numpy转张量\n",
    "np_arr = np.array([4, 5, 6])\n",
    "t_from_np = torch.from_numpy(np_arr)"
   ]
  },
  {
   "cell_type": "code",
   "execution_count": 17,
   "id": "c1f234e9-f66b-4d37-aa12-7035163a6bf7",
   "metadata": {},
   "outputs": [
    {
     "data": {
      "text/plain": [
       "tensor([4, 5, 6], dtype=torch.int32)"
      ]
     },
     "execution_count": 17,
     "metadata": {},
     "output_type": "execute_result"
    }
   ],
   "source": [
    "t_from_np"
   ]
  },
  {
   "cell_type": "markdown",
   "id": "0523297d-2d67-4235-8a40-437024f038ee",
   "metadata": {},
   "source": [
    "### Pytorch张量的矩阵乘积\n",
    "\n",
    "**@运算符**\n",
    "- 任意维度的张量（只要满足最后两个维度相等）\n",
    "    - 最后一个维度长度必须相等\n",
    "    - 最后两维之外的维度必须相同或者为1"
   ]
  },
  {
   "cell_type": "code",
   "execution_count": 20,
   "id": "d8f4fd3a-7ef9-42f8-8311-751abc47cce6",
   "metadata": {},
   "outputs": [
    {
     "data": {
      "text/plain": [
       "tensor([[ 58,  64],\n",
       "        [139, 154]])"
      ]
     },
     "execution_count": 20,
     "metadata": {},
     "output_type": "execute_result"
    }
   ],
   "source": [
    "A = torch.tensor([[1, 2, 3], [4, 5, 6]]) # （2，3）\n",
    "B = torch.tensor([[7, 8], [9, 10], [11, 12]]) #（3，2）\n",
    "\n",
    "C = A @ B\n",
    "C"
   ]
  },
  {
   "cell_type": "code",
   "execution_count": 22,
   "id": "20cb00ef-a1a9-4aa5-ac20-7c7b3445b7d5",
   "metadata": {},
   "outputs": [],
   "source": [
    "A = torch.randn(2, 3)"
   ]
  },
  {
   "cell_type": "code",
   "execution_count": 24,
   "id": "0c2c7159-11a0-433d-a762-acac5e7746a9",
   "metadata": {},
   "outputs": [
    {
     "data": {
      "text/plain": [
       "tensor([[ 0.3171,  0.2032, -0.7964],\n",
       "        [ 0.9489,  0.1966, -0.3069]])"
      ]
     },
     "execution_count": 24,
     "metadata": {},
     "output_type": "execute_result"
    }
   ],
   "source": [
    "A"
   ]
  },
  {
   "cell_type": "code",
   "execution_count": 26,
   "id": "2ba9e64e-cda9-4fb3-84ef-d95e0c7db581",
   "metadata": {},
   "outputs": [
    {
     "ename": "RuntimeError",
     "evalue": "mat1 and mat2 shapes cannot be multiplied (2x3 and 2x4)",
     "output_type": "error",
     "traceback": [
      "\u001b[1;31m---------------------------------------------------------------------------\u001b[0m",
      "\u001b[1;31mRuntimeError\u001b[0m                              Traceback (most recent call last)",
      "Cell \u001b[1;32mIn[26], line 3\u001b[0m\n\u001b[0;32m      1\u001b[0m B \u001b[38;5;241m=\u001b[39m torch\u001b[38;5;241m.\u001b[39mrandn(\u001b[38;5;241m2\u001b[39m, \u001b[38;5;241m4\u001b[39m)\n\u001b[1;32m----> 3\u001b[0m C \u001b[38;5;241m=\u001b[39m A \u001b[38;5;241m@\u001b[39m B\n\u001b[0;32m      4\u001b[0m C\n",
      "\u001b[1;31mRuntimeError\u001b[0m: mat1 and mat2 shapes cannot be multiplied (2x3 and 2x4)"
     ]
    }
   ],
   "source": [
    "B = torch.randn(2, 4)\n",
    "\n",
    "C = A @ B\n",
    "C"
   ]
  },
  {
   "cell_type": "code",
   "execution_count": null,
   "id": "e941fe01-33a3-4650-9c3f-74bd0bb03c3f",
   "metadata": {},
   "outputs": [],
   "source": [
    "torch.matmul()"
   ]
  },
  {
   "cell_type": "markdown",
   "id": "4d3a9b0e-9c14-46a4-8fdd-f85208cf0c5f",
   "metadata": {},
   "source": [
    "**torch.bmm(a,b)**\n",
    "\n",
    "- tensor a的size为(b,h,w)\n",
    "- tensor b的size为(b,w,m)\n",
    "- 输出(b,h,m)"
   ]
  },
  {
   "cell_type": "code",
   "execution_count": 28,
   "id": "9229adc7-b439-44f8-ae73-1706a9cae7d1",
   "metadata": {},
   "outputs": [
    {
     "data": {
      "text/plain": [
       "torch.Size([10, 2, 4])"
      ]
     },
     "execution_count": 28,
     "metadata": {},
     "output_type": "execute_result"
    }
   ],
   "source": [
    "batch_size = 10\n",
    "\n",
    "A_batch = torch.randn(batch_size, 2, 3) # 10 x 2 x 3\n",
    "B_batch = torch.randn(batch_size, 3, 4) \n",
    "C = torch.bmm(A_batch, B_batch)\n",
    "C.shape"
   ]
  },
  {
   "cell_type": "markdown",
   "id": "5341d9fe-aeb3-42fe-8c8b-a1502d5afb32",
   "metadata": {},
   "source": [
    "**torch.mm使用**\n",
    "1. 仅适用于二维张量\n",
    "2. 当输入为二维张量时：\n",
    "    - torch.mm(A, B) = A @ B = torch.matmul(A, B)\n",
    "3. 当输入为高维时：A @ B = torch.matmul(A, B)\n",
    "\n",
    "\n",
    "**点积**\n",
    "点积指两个向量的乘积（一维）：torch.dot(A_vector, B_vector)"
   ]
  },
  {
   "cell_type": "markdown",
   "id": "e2f37c64-b471-43f8-8390-b09d75e6bae0",
   "metadata": {},
   "source": [
    "## 线性回归 Liner Regression\n",
    "\n",
    "**模型 Model**: y = x * w + b\n",
    "\n",
    "**数据集 Dataset**：[Features] X, y(label -> 标签)\n",
    "\n",
    "**损失函数Loss Function**： MSE -> （1/N）* Σ(y_hat-y_ture)^2\n",
    "\n",
    "**优化器Optimizer**：Adam / SGD\n",
    "\n",
    "\n",
    "**数据集 Dataset**\n",
    "- 训练集（Training Set）\n",
    "- 验证集（Validation Set）\n",
    "- 测试集（Test Set）\n",
    "\n",
    "**Feature**\n",
    "1. 数值型（Continuous Features）\n",
    "    - 数值型的特征可以连续变化：身高、体重、房子面积\n",
    "    - 这些特征通常是可加性的，比如180cm 和 175cm 之间的 5cm 是有意义的，代表实际的身高差\n",
    "2. 类别型（Categorical Features）\n",
    "    - 又称为离散型特征，不能直接用数值表述：性别、眼睛颜色、房屋类型\n",
    "    - 不能进行加减运算 -> 把类别特征转换成可以计算的数值，比如：0表示男性，1表示女性，或者用独热编码(One-Hot Encoding)，把多个类别都转换成多个0/1值\n",
    "3. 特殊特征：高维数据、复杂特征\n",
    "    - 图像数据\n",
    "    - 语音数据\n",
    "    - 激光雷达\n",
    "\n",
    "**Loss Function**\n",
    "- 均方误差（mean-square-error: MSE）\n",
    "- 均绝对误差（MAE）：MAE = (1/N) * ∑ |Y_hat - Y_true|\n",
    "\n",
    "**评价指标(Metrics)**\n",
    "1. 准确率（Accuracy）: 用于分类任务\n",
    "2. R^2（决定系数）：用于回归问题，范围在0-1之间\n",
    "3. AUC（曲线下面积）\n",
    "\n",
    "\n",
    "#### 模型训练流程\n",
    "1. 准备数据：收集数据、整理成适合模型训练的格式\n",
    "2. 选择特征：决定哪些特征对模型预测有帮助\n",
    "3. 训练模型：输入数据，让模型调整参数，减小误差\n",
    "4. 评估效果：用损失函数和评价指标\n",
    "5. 优化模型：如果表现不好，调整参数或者换更好的特征\n",
    "\n",
    "#### 优化器\n",
    "> 优化器的核心目标是调整参数，使得损失函数最小化\n",
    ">\n",
    "- 计算误差\n",
    "- 计算梯度：使用反向传播（Backpropagation）计算出损失对每个参数的影响\n",
    "- 更新参数：根据梯度，调整参数，让模型的输出更接近目标\n",
    "\n",
    "*数学公式表达*\n",
    "W_new = W_old - learning_rate * gradient\n",
    "b_new = b_old - learning_rate * gradient\n",
    "\n",
    "- 梯度下降 SGD：每次朝减小误差的方向调整，但是步伐稳定，容易受局部最优困扰\n",
    "- 动量优化\n",
    "- Adam：结合了动量和自适应学习率，是目前最常用的优化器之一"
   ]
  },
  {
   "cell_type": "code",
   "execution_count": null,
   "id": "41eb7b2c-245d-474e-aa41-8e1bbf9e7ac3",
   "metadata": {},
   "outputs": [],
   "source": [
    "nn.Module"
   ]
  },
  {
   "cell_type": "code",
   "execution_count": null,
   "id": "7594f56f-b458-43af-819a-19c717e9f4df",
   "metadata": {},
   "outputs": [],
   "source": [
    "nn.Parameter"
   ]
  },
  {
   "cell_type": "markdown",
   "id": "591687b0-c052-4177-b923-87b22e0175fd",
   "metadata": {},
   "source": [
    "### 数据预处理\n",
    "\n",
    "> 人为筛选含有主观性，需要进行系统的筛选\n",
    "\n",
    "**基于统计分析**\n",
    "*我们可以计算每个特征（X）和目标变量（label/y）的相关性（correlation）*\n",
    "\n",
    "*降维（Dimensionality Reduction）*\n",
    "- PCA -> 通过数学方法，将高维数据转换为较少的几个主成分，同时尽可能保留数据的主要信息。\n",
    "- 基于模型的特征选择方法：决策树、随机森林\n",
    "\n",
    "常见的相关性计算方法包括：皮尔逊相关系数、斯皮尔曼相关系数、卡方检验、余弦相似度\n",
    "\n",
    "**余弦相似度**\n",
    "- 文本分析\n",
    "- 推荐系统\n",
    "- 特征筛选（如果特征数值已经归一化，它可以作为特征选择的指标之一）\n",
    "\n",
    "\n",
    "**标准化（Standardization）和归一化（Normalization）**\n",
    "- 标准化通常将数据转换为均值为0、标准差为1的分布\n",
    "- 归一化指将数据缩放到0和1之间"
   ]
  },
  {
   "cell_type": "code",
   "execution_count": 25,
   "id": "ffc8808e-3056-435a-84ec-22de7e745e67",
   "metadata": {},
   "outputs": [
    {
     "data": {
      "text/plain": [
       "0.9999999999999999"
      ]
     },
     "execution_count": 25,
     "metadata": {},
     "output_type": "execute_result"
    }
   ],
   "source": [
    "# 余弦相似度\n",
    "import numpy as np\n",
    "\n",
    "# 定义特征 X 和目标变量 Y\n",
    "X = np.array([50, 60, 70, 80, 90])\n",
    "Y = np.array([200, 240, 280, 320, 360])\n",
    "\n",
    "# 计算点积\n",
    "dot_product = np.dot(X, Y)\n",
    "\n",
    "# 计算范数\n",
    "norm_X = np.linalg.norm(X)\n",
    "norm_Y = np.linalg.norm(Y)\n",
    "\n",
    "# 计算余弦相似度\n",
    "cosine_similarity = dot_product / (norm_X * norm_Y)\n",
    "cosine_similarity"
   ]
  },
  {
   "cell_type": "markdown",
   "id": "29e1db8f-55d0-4b94-b359-349abbed30f1",
   "metadata": {},
   "source": [
    "## 数据预处理 - 标准化\n",
    "\n",
    "**为什么进行标准化？**\n",
    "- 数据的尺度（scale）不同影响模型的训练效果，标准化的主要目的是让不同特征的数值范围接近，使模型更快收敛，提高训练效果\n",
    "- 是否需要标准化，取决于：数据类型、优化方法和网络结构\n",
    "\n",
    "**适合标准化的情况**\n",
    "1. 输入数据有不同的尺度 -> 对输入数据进行 Z-score标准化（零均值单位方差），或者Min-Max归一化\n",
    "2. 使用梯度下降优化时（SGD/Adam）\n",
    "    - 特别适用于：线性回归、逻辑回归、神经网络（DNN/CNN/RNN）\n",
    "3. 使用批量归一化\n",
    "4. 防止梯度消失或者梯度爆炸\n",
    "\n",
    "**可以先不使用标准化，观察模型的表现，再决定是否使用标准化**"
   ]
  },
  {
   "cell_type": "code",
   "execution_count": 64,
   "id": "8d54ea97-fac0-48ea-abab-7bb1d3d97709",
   "metadata": {},
   "outputs": [
    {
     "data": {
      "text/html": [
       "<div>\n",
       "<style scoped>\n",
       "    .dataframe tbody tr th:only-of-type {\n",
       "        vertical-align: middle;\n",
       "    }\n",
       "\n",
       "    .dataframe tbody tr th {\n",
       "        vertical-align: top;\n",
       "    }\n",
       "\n",
       "    .dataframe thead th {\n",
       "        text-align: right;\n",
       "    }\n",
       "</style>\n",
       "<table border=\"1\" class=\"dataframe\">\n",
       "  <thead>\n",
       "    <tr style=\"text-align: right;\">\n",
       "      <th></th>\n",
       "      <th>MSSubClass</th>\n",
       "      <th>MSZoning</th>\n",
       "      <th>LotFrontage</th>\n",
       "      <th>LotArea</th>\n",
       "      <th>Street</th>\n",
       "      <th>Alley</th>\n",
       "      <th>LotShape</th>\n",
       "      <th>LandContour</th>\n",
       "      <th>Utilities</th>\n",
       "      <th>LotConfig</th>\n",
       "      <th>...</th>\n",
       "      <th>PoolArea</th>\n",
       "      <th>PoolQC</th>\n",
       "      <th>Fence</th>\n",
       "      <th>MiscFeature</th>\n",
       "      <th>MiscVal</th>\n",
       "      <th>MoSold</th>\n",
       "      <th>YrSold</th>\n",
       "      <th>SaleType</th>\n",
       "      <th>SaleCondition</th>\n",
       "      <th>SalePrice</th>\n",
       "    </tr>\n",
       "    <tr>\n",
       "      <th>Id</th>\n",
       "      <th></th>\n",
       "      <th></th>\n",
       "      <th></th>\n",
       "      <th></th>\n",
       "      <th></th>\n",
       "      <th></th>\n",
       "      <th></th>\n",
       "      <th></th>\n",
       "      <th></th>\n",
       "      <th></th>\n",
       "      <th></th>\n",
       "      <th></th>\n",
       "      <th></th>\n",
       "      <th></th>\n",
       "      <th></th>\n",
       "      <th></th>\n",
       "      <th></th>\n",
       "      <th></th>\n",
       "      <th></th>\n",
       "      <th></th>\n",
       "      <th></th>\n",
       "    </tr>\n",
       "  </thead>\n",
       "  <tbody>\n",
       "    <tr>\n",
       "      <th>1</th>\n",
       "      <td>60</td>\n",
       "      <td>RL</td>\n",
       "      <td>65.0</td>\n",
       "      <td>8450</td>\n",
       "      <td>Pave</td>\n",
       "      <td>NaN</td>\n",
       "      <td>Reg</td>\n",
       "      <td>Lvl</td>\n",
       "      <td>AllPub</td>\n",
       "      <td>Inside</td>\n",
       "      <td>...</td>\n",
       "      <td>0</td>\n",
       "      <td>NaN</td>\n",
       "      <td>NaN</td>\n",
       "      <td>NaN</td>\n",
       "      <td>0</td>\n",
       "      <td>2</td>\n",
       "      <td>2008</td>\n",
       "      <td>WD</td>\n",
       "      <td>Normal</td>\n",
       "      <td>208500</td>\n",
       "    </tr>\n",
       "    <tr>\n",
       "      <th>2</th>\n",
       "      <td>20</td>\n",
       "      <td>RL</td>\n",
       "      <td>80.0</td>\n",
       "      <td>9600</td>\n",
       "      <td>Pave</td>\n",
       "      <td>NaN</td>\n",
       "      <td>Reg</td>\n",
       "      <td>Lvl</td>\n",
       "      <td>AllPub</td>\n",
       "      <td>FR2</td>\n",
       "      <td>...</td>\n",
       "      <td>0</td>\n",
       "      <td>NaN</td>\n",
       "      <td>NaN</td>\n",
       "      <td>NaN</td>\n",
       "      <td>0</td>\n",
       "      <td>5</td>\n",
       "      <td>2007</td>\n",
       "      <td>WD</td>\n",
       "      <td>Normal</td>\n",
       "      <td>181500</td>\n",
       "    </tr>\n",
       "    <tr>\n",
       "      <th>3</th>\n",
       "      <td>60</td>\n",
       "      <td>RL</td>\n",
       "      <td>68.0</td>\n",
       "      <td>11250</td>\n",
       "      <td>Pave</td>\n",
       "      <td>NaN</td>\n",
       "      <td>IR1</td>\n",
       "      <td>Lvl</td>\n",
       "      <td>AllPub</td>\n",
       "      <td>Inside</td>\n",
       "      <td>...</td>\n",
       "      <td>0</td>\n",
       "      <td>NaN</td>\n",
       "      <td>NaN</td>\n",
       "      <td>NaN</td>\n",
       "      <td>0</td>\n",
       "      <td>9</td>\n",
       "      <td>2008</td>\n",
       "      <td>WD</td>\n",
       "      <td>Normal</td>\n",
       "      <td>223500</td>\n",
       "    </tr>\n",
       "    <tr>\n",
       "      <th>4</th>\n",
       "      <td>70</td>\n",
       "      <td>RL</td>\n",
       "      <td>60.0</td>\n",
       "      <td>9550</td>\n",
       "      <td>Pave</td>\n",
       "      <td>NaN</td>\n",
       "      <td>IR1</td>\n",
       "      <td>Lvl</td>\n",
       "      <td>AllPub</td>\n",
       "      <td>Corner</td>\n",
       "      <td>...</td>\n",
       "      <td>0</td>\n",
       "      <td>NaN</td>\n",
       "      <td>NaN</td>\n",
       "      <td>NaN</td>\n",
       "      <td>0</td>\n",
       "      <td>2</td>\n",
       "      <td>2006</td>\n",
       "      <td>WD</td>\n",
       "      <td>Abnorml</td>\n",
       "      <td>140000</td>\n",
       "    </tr>\n",
       "    <tr>\n",
       "      <th>5</th>\n",
       "      <td>60</td>\n",
       "      <td>RL</td>\n",
       "      <td>84.0</td>\n",
       "      <td>14260</td>\n",
       "      <td>Pave</td>\n",
       "      <td>NaN</td>\n",
       "      <td>IR1</td>\n",
       "      <td>Lvl</td>\n",
       "      <td>AllPub</td>\n",
       "      <td>FR2</td>\n",
       "      <td>...</td>\n",
       "      <td>0</td>\n",
       "      <td>NaN</td>\n",
       "      <td>NaN</td>\n",
       "      <td>NaN</td>\n",
       "      <td>0</td>\n",
       "      <td>12</td>\n",
       "      <td>2008</td>\n",
       "      <td>WD</td>\n",
       "      <td>Normal</td>\n",
       "      <td>250000</td>\n",
       "    </tr>\n",
       "  </tbody>\n",
       "</table>\n",
       "<p>5 rows × 80 columns</p>\n",
       "</div>"
      ],
      "text/plain": [
       "    MSSubClass MSZoning  LotFrontage  LotArea Street Alley LotShape  \\\n",
       "Id                                                                    \n",
       "1           60       RL         65.0     8450   Pave   NaN      Reg   \n",
       "2           20       RL         80.0     9600   Pave   NaN      Reg   \n",
       "3           60       RL         68.0    11250   Pave   NaN      IR1   \n",
       "4           70       RL         60.0     9550   Pave   NaN      IR1   \n",
       "5           60       RL         84.0    14260   Pave   NaN      IR1   \n",
       "\n",
       "   LandContour Utilities LotConfig  ... PoolArea PoolQC Fence MiscFeature  \\\n",
       "Id                                  ...                                     \n",
       "1          Lvl    AllPub    Inside  ...        0    NaN   NaN         NaN   \n",
       "2          Lvl    AllPub       FR2  ...        0    NaN   NaN         NaN   \n",
       "3          Lvl    AllPub    Inside  ...        0    NaN   NaN         NaN   \n",
       "4          Lvl    AllPub    Corner  ...        0    NaN   NaN         NaN   \n",
       "5          Lvl    AllPub       FR2  ...        0    NaN   NaN         NaN   \n",
       "\n",
       "   MiscVal MoSold  YrSold  SaleType  SaleCondition  SalePrice  \n",
       "Id                                                             \n",
       "1        0      2    2008        WD         Normal     208500  \n",
       "2        0      5    2007        WD         Normal     181500  \n",
       "3        0      9    2008        WD         Normal     223500  \n",
       "4        0      2    2006        WD        Abnorml     140000  \n",
       "5        0     12    2008        WD         Normal     250000  \n",
       "\n",
       "[5 rows x 80 columns]"
      ]
     },
     "execution_count": 64,
     "metadata": {},
     "output_type": "execute_result"
    }
   ],
   "source": [
    "import pandas as pd\n",
    "\n",
    "df_train = pd.read_csv(\"data/boston_housing/train.csv\").set_index(\"Id\")\n",
    "df_train.head()"
   ]
  },
  {
   "cell_type": "code",
   "execution_count": 66,
   "id": "d9f4f94f-296c-42a2-a064-c6b214be9822",
   "metadata": {
    "collapsed": true,
    "jupyter": {
     "outputs_hidden": true
    }
   },
   "outputs": [
    {
     "data": {
      "text/plain": [
       "Id\n",
       "1       208500\n",
       "2       181500\n",
       "3       223500\n",
       "4       140000\n",
       "5       250000\n",
       "         ...  \n",
       "1456    175000\n",
       "1457    210000\n",
       "1458    266500\n",
       "1459    142125\n",
       "1460    147500\n",
       "Name: SalePrice, Length: 1460, dtype: int64"
      ]
     },
     "execution_count": 66,
     "metadata": {},
     "output_type": "execute_result"
    }
   ],
   "source": [
    "df_train.SalePrice"
   ]
  },
  {
   "cell_type": "code",
   "execution_count": 68,
   "id": "608e3c34-08c6-4bcd-bc96-5b7ef8fc4ef9",
   "metadata": {},
   "outputs": [
    {
     "data": {
      "text/plain": [
       "array([208500, 181500, 223500, ..., 266500, 142125, 147500], dtype=int64)"
      ]
     },
     "execution_count": 68,
     "metadata": {},
     "output_type": "execute_result"
    }
   ],
   "source": [
    "df_train.SalePrice.values"
   ]
  },
  {
   "cell_type": "code",
   "execution_count": 70,
   "id": "33effd74-20d6-47f5-8461-33364d9d74a1",
   "metadata": {},
   "outputs": [
    {
     "data": {
      "text/plain": [
       "(755000, 34900)"
      ]
     },
     "execution_count": 70,
     "metadata": {},
     "output_type": "execute_result"
    }
   ],
   "source": [
    "max_value = df_train.SalePrice.values.max()\n",
    "min_value = df_train.SalePrice.values.min()\n",
    "\n",
    "max_value, min_value"
   ]
  },
  {
   "cell_type": "code",
   "execution_count": 72,
   "id": "6b66e01d-f48d-46fd-8d0f-a25d84ff7c37",
   "metadata": {},
   "outputs": [
    {
     "data": {
      "text/plain": [
       "array([173600, 146600, 188600, ..., 231600, 107225, 112600], dtype=int64)"
      ]
     },
     "execution_count": 72,
     "metadata": {},
     "output_type": "execute_result"
    }
   ],
   "source": [
    "# 开始标准化\n",
    "df_train.SalePrice.values - min_value"
   ]
  },
  {
   "cell_type": "code",
   "execution_count": 76,
   "id": "14626091-bd69-4cab-b31b-155fff830d9f",
   "metadata": {},
   "outputs": [],
   "source": [
    "# 进行标准化 -> 获得新的数据，所有的数据的值都在[0, 1]之间\n",
    "standard = (df_train.SalePrice.values - min_value) / (max_value - min_value)"
   ]
  },
  {
   "cell_type": "code",
   "execution_count": 80,
   "id": "fe374bb7-e406-41e4-8dfb-73efdc686db0",
   "metadata": {},
   "outputs": [
    {
     "data": {
      "text/plain": [
       "(1.0, 0.0)"
      ]
     },
     "execution_count": 80,
     "metadata": {},
     "output_type": "execute_result"
    }
   ],
   "source": [
    "max(standard), min(standard)"
   ]
  },
  {
   "cell_type": "code",
   "execution_count": 89,
   "id": "5a842ee0-2903-4aec-ac54-566fc61ca7da",
   "metadata": {},
   "outputs": [],
   "source": [
    "def linear_regression(x: torch.tensor) -> torch.tensor:\n",
    "    \"\"\" 线性回归函数 \"\"\"\n",
    "    weight = torch.rand(3, 5)\n",
    "    bias = torch.rand(5)\n",
    "    return x @ weight + bias"
   ]
  },
  {
   "cell_type": "code",
   "execution_count": 91,
   "id": "02bb072e-f698-47da-9ac1-74c19e745a85",
   "metadata": {},
   "outputs": [
    {
     "data": {
      "text/plain": [
       "tensor([[0.8115, 1.2494, 1.4538, 0.8605, 0.9638],\n",
       "        [1.0444, 1.3812, 1.2196, 1.1723, 1.1600]])"
      ]
     },
     "execution_count": 91,
     "metadata": {},
     "output_type": "execute_result"
    }
   ],
   "source": [
    "linear_regression(torch.rand(2, 3))"
   ]
  },
  {
   "cell_type": "markdown",
   "id": "4b890494-0482-4354-949f-3a3701640853",
   "metadata": {},
   "source": [
    "## 线性神经网络\n",
    "\n",
    "**torch.nn.Parameter** -> tensor的子类，如果放进nn.Module里，Pytorch会自动识别它是一个需要优化的参数，并且在训练的过程中计算它的梯度，进而让优化器调整它的值\n",
    "\n",
    "**nn.Module** -> 是pytorch所有神经网络模型的基类，它帮我们管理模型的参数，让参数不会在每次向前传播时被重置\n",
    "\n",
    "**nn.Linear** -> 封装了线性变换，让代码更加简洁"
   ]
  },
  {
   "cell_type": "code",
   "execution_count": 87,
   "id": "a3825413-0a03-4387-b637-7a04d09378b2",
   "metadata": {},
   "outputs": [],
   "source": [
    "def linear_neural_network(x: torch.tensor) -> torch.tensor:\n",
    "    \"\"\" 线性神经网络运算函数 \"\"\"\n",
    "    weight = torch.nn.Parameter(torch.rand(3, 5))\n",
    "    bias = torch.nn.Parameter(torch.rand(5))\n",
    "    return x @ weight + bias"
   ]
  },
  {
   "cell_type": "code",
   "execution_count": 95,
   "id": "7a691c2f-4b37-4440-8bce-d21cdaaa5ca7",
   "metadata": {},
   "outputs": [
    {
     "data": {
      "text/plain": [
       "tensor([[0.5766, 1.5439, 1.0831, 0.7947, 1.0908],\n",
       "        [0.6749, 1.9330, 1.1352, 1.0379, 1.5109]], grad_fn=<AddBackward0>)"
      ]
     },
     "execution_count": 95,
     "metadata": {},
     "output_type": "execute_result"
    }
   ],
   "source": [
    "linear_neural_network(torch.rand(2, 3))"
   ]
  },
  {
   "cell_type": "code",
   "execution_count": 98,
   "id": "0c462b1c-ae6e-4cca-9ecf-b6b5b166eff6",
   "metadata": {},
   "outputs": [],
   "source": [
    "import torch.nn as nn\n",
    "\n",
    "class LinearNeuralNetwork(nn.Module):\n",
    "    \"\"\" 线性神经网络 \"\"\"\n",
    "    def __init__(self, in_features, out_features):\n",
    "        super().__init__()\n",
    "        self.weight = torch.nn.Parameter(torch.rand(in_features, out_features))\n",
    "        self.bias = torch.nn.Parameter(torch.rand(out_features))\n",
    "        \n",
    "    def forward(self, x):\n",
    "        return x @ self.weight + self.bias"
   ]
  },
  {
   "cell_type": "code",
   "execution_count": 100,
   "id": "ae3dcf58-2df5-48c8-a218-93dbf1de65fb",
   "metadata": {},
   "outputs": [],
   "source": [
    "model = LinearNeuralNetwork(in_features=3, out_features=5)"
   ]
  },
  {
   "cell_type": "code",
   "execution_count": 102,
   "id": "7cb93f5c-437a-4ce7-a084-2269359f425e",
   "metadata": {},
   "outputs": [
    {
     "name": "stdout",
     "output_type": "stream",
     "text": [
      "torch.Size([2, 5])\n"
     ]
    }
   ],
   "source": [
    "x = torch.rand(2, 3)\n",
    "y = model(x) \n",
    "print(y.shape)"
   ]
  },
  {
   "cell_type": "code",
   "execution_count": 104,
   "id": "30bf565a-f4a5-4747-8a75-fbfdbafa5048",
   "metadata": {},
   "outputs": [
    {
     "data": {
      "text/plain": [
       "tensor([[1.0687, 0.4751, 1.1736, 1.0330, 0.2632],\n",
       "        [1.6772, 1.4187, 2.2411, 1.0490, 1.2289]], grad_fn=<AddBackward0>)"
      ]
     },
     "execution_count": 104,
     "metadata": {},
     "output_type": "execute_result"
    }
   ],
   "source": [
    "y"
   ]
  },
  {
   "cell_type": "code",
   "execution_count": 106,
   "id": "e6bc2586-379a-4ee5-8d71-d7356e3b3a8c",
   "metadata": {},
   "outputs": [
    {
     "data": {
      "text/plain": [
       "(Parameter containing:\n",
       " tensor([[0.6726, 0.6552, 0.9089, 0.0017, 0.7120],\n",
       "         [0.0851, 0.0736, 0.1588, 0.5183, 0.1281],\n",
       "         [0.1058, 0.7341, 0.6482, 0.6889, 0.7495]], requires_grad=True),\n",
       " Parameter containing:\n",
       " tensor([0.9184, 0.2710, 0.8768, 0.4799, 0.0019], requires_grad=True))"
      ]
     },
     "execution_count": 106,
     "metadata": {},
     "output_type": "execute_result"
    }
   ],
   "source": [
    "model.weight, model.bias"
   ]
  },
  {
   "cell_type": "code",
   "execution_count": 108,
   "id": "25b85630-bb6a-49b9-b28c-f205f5604894",
   "metadata": {},
   "outputs": [],
   "source": [
    "class LinearNeuralNetwork(nn.Module):\n",
    "    \"\"\" 线性神经网络 \"\"\"\n",
    "    def __init__(self, in_features, out_features):\n",
    "        super().__init__()\n",
    "        self.linear = nn.Linear(in_features, out_features) # 线性变换层\n",
    "        \n",
    "    def forward(self, x):\n",
    "        return self.linear(x)"
   ]
  },
  {
   "cell_type": "markdown",
   "id": "f7e770ed-ab3c-442b-b8e3-be6076a6d57d",
   "metadata": {},
   "source": [
    "### 逻辑回归模型\n",
    "\n",
    "- 用于接近二分类问题\n",
    "- 范围在[0, 1]（表示概率）\n",
    "- 有激活函数 -> sigmoid，输出概率 p = sigmoid(w * x + b)\n"
   ]
  },
  {
   "cell_type": "code",
   "execution_count": 8,
   "id": "3e49c9bf-c68f-4b9f-b3c9-0e3d4690e6e5",
   "metadata": {},
   "outputs": [],
   "source": [
    "import torch.nn.functional as F\n",
    "\n",
    "class LogisticRegression(torch.nn.Module):\n",
    "    \"\"\" 逻辑回归模型 \"\"\"\n",
    "    def __init__(self):\n",
    "        super().__init__()\n",
    "        self.fc = torch.nn.Linear(1, 1)\n",
    "        \n",
    "    def forward(self, x):\n",
    "        \"\"\" 前向传播 \"\"\"\n",
    "        return F.sigmoid(self.fc(x))"
   ]
  },
  {
   "cell_type": "code",
   "execution_count": 13,
   "id": "9a8ff55a-f5e9-4be3-85d1-46e3d896afb8",
   "metadata": {},
   "outputs": [],
   "source": [
    "# 生成数据集 dataset\n",
    "x = torch.Tensor([[1.0], [2.0], [3.0]])\n",
    "y = torch.Tensor([[0], [0], [1]])"
   ]
  },
  {
   "cell_type": "code",
   "execution_count": 15,
   "id": "1eb56cfc-1b26-4f51-bf84-c7c3cefade71",
   "metadata": {},
   "outputs": [],
   "source": [
    "model = LogisticRegression()\n",
    "loss_func = torch.nn.BCELoss() # 二元交叉熵损失 -> 二分类问题\n",
    "optimizer = torch.optim.Adam(model.parameters(), lr=1e-2)"
   ]
  },
  {
   "cell_type": "code",
   "execution_count": 16,
   "id": "fdf90f96-c577-44f8-a639-43fadbc8815d",
   "metadata": {},
   "outputs": [],
   "source": [
    "total_loss = []\n",
    "for i in range(5000):\n",
    "    # forward\n",
    "    y_hat = model(x)\n",
    "    loss = loss_func(y_hat, y)\n",
    "    \n",
    "    # backward\n",
    "    optimizer.zero_grad()\n",
    "    loss.backward()\n",
    "    \n",
    "    # update\n",
    "    optimizer.step()\n",
    "    total_loss.append(loss.item())"
   ]
  },
  {
   "cell_type": "code",
   "execution_count": 17,
   "id": "7dea67b4-0d79-4aca-a856-331c39672c16",
   "metadata": {},
   "outputs": [],
   "source": [
    "import matplotlib.pyplot as plt\n",
    "import os\n",
    "os.environ['KMP_DUPLICATE_LIB_OK']= 'True'"
   ]
  },
  {
   "cell_type": "code",
   "execution_count": 18,
   "id": "38c9413d-9a19-4e51-9deb-4f35af3ddb73",
   "metadata": {},
   "outputs": [
    {
     "data": {
      "image/png": "[encoded data removed]",
      "text/plain": [
       "<Figure size 800x400 with 1 Axes>"
      ]
     },
     "metadata": {},
     "output_type": "display_data"
    }
   ],
   "source": [
    "import matplotlib.pyplot as plt\n",
    "\n",
    "plt.figure(figsize=(8, 4))\n",
    "plt.plot(total_loss, label=\"train loss\")\n",
    "plt.title(\"Logistic Regression Train Loss\")\n",
    "plt.legend()\n",
    "plt.grid()\n",
    "plt.show()"
   ]
  },
  {
   "cell_type": "code",
   "execution_count": 27,
   "id": "d972c1de-efce-4fc1-9b9c-d25f76f328dd",
   "metadata": {},
   "outputs": [
    {
     "data": {
      "image/png": "[encoded data removed]",
      "text/plain": [
       "<Figure size 640x480 with 1 Axes>"
      ]
     },
     "metadata": {},
     "output_type": "display_data"
    }
   ],
   "source": [
    "x_t = torch.Tensor(np.linspace(0, 10, 200)).view(200, 1)\n",
    "y_hat = model(x_t)\n",
    "\n",
    "plt.plot(x_t.data.numpy(), y_hat.data.numpy())\n",
    "plt.plot([0, 10], [0.5, 0.5], c='r')\n",
    "plt.grid()"
   ]
  },
  {
   "cell_type": "markdown",
   "id": "be3edae4-92bb-4ff7-9866-ea91772f31aa",
   "metadata": {},
   "source": [
    "**激活函数**\n",
    "- ReLU\n",
    "- Sigmoid(S型函数)\n",
    "- Tanh（双曲正切）"
   ]
  },
  {
   "cell_type": "code",
   "execution_count": null,
   "id": "08761af4-8d97-464e-ba1e-75eb97974b4a",
   "metadata": {},
   "outputs": [],
   "source": [
    "f(x) = max(0, x)\n",
    "F.relu(x)"
   ]
  },
  {
   "cell_type": "markdown",
   "id": "3cdd00d0-3035-4dc0-869b-8d681f5a5893",
   "metadata": {},
   "source": [
    "## 多层感知机 MLP -> 多层线性神经网络\n",
    "\n",
    "**什么是多层感知机？**\n",
    "- 多层的线性变换 + 非线性的激活函数 的组合"
   ]
  },
  {
   "cell_type": "code",
   "execution_count": null,
   "id": "89482aba-7aa8-4300-9694-0561b3f79015",
   "metadata": {},
   "outputs": [],
   "source": [
    "x.shape = (1, 7)"
   ]
  },
  {
   "cell_type": "code",
   "execution_count": null,
   "id": "c90b3ae4-670a-4f6c-a20c-848e31483004",
   "metadata": {},
   "outputs": [],
   "source": [
    "# 第一层\n",
    "Linear(7, 4)\n",
    "\n",
    "# 加一层\n",
    "Linear(4, 10)\n",
    "\n",
    "# 再加一层\n",
    "Linear(10, 5)"
   ]
  },
  {
   "cell_type": "code",
   "execution_count": 33,
   "id": "9e4b57f8-f1dd-4bfc-945f-93b6357b3502",
   "metadata": {},
   "outputs": [],
   "source": [
    "import torch.nn as nn\n",
    "\n",
    "model = nn.Sequential(\n",
    "    nn.Linear(7, 4),\n",
    "    nn.ReLU(),\n",
    "    nn.Linear(4, 10),\n",
    "    nn.ReLU(),\n",
    "    nn.Linear(10, 5)\n",
    ")"
   ]
  },
  {
   "cell_type": "markdown",
   "id": "ee17d75a-2b5f-43e1-bb14-ccc96db7a19b",
   "metadata": {},
   "source": [
    "## MLP练习：预测学生是否通过考试\n",
    "\n",
    "简单的二分类任务，根据学生的两门成绩（数学和英语），预测是否通过考试\n",
    "\n",
    "- 输入：两个特征，取值范围[0, 100]\n",
    "- 输出：是否通过(0表示不通过，1表示通过)\n",
    "- 通过的定义：数学和英语的平均成绩大于60\n",
    "\n",
    "### 1. 生成数据集\n",
    "- X: 是我们的输入，100个学生，每个有两个成绩\n",
    "- Y：我们的标签，0 或 1"
   ]
  },
  {
   "cell_type": "code",
   "execution_count": 15,
   "id": "1bc763a1-1f43-4ed3-94a9-0932dfc608dc",
   "metadata": {},
   "outputs": [],
   "source": [
    "import torch\n",
    "import torch.nn as nn\n",
    "import torch.nn.functional as F\n",
    "import matplotlib.pyplot as plt\n",
    "import pandas as pd\n",
    "\n",
    "# 设置随机种子，确保结果可以复现\n",
    "torch.manual_seed(0)\n",
    "\n",
    "X = torch.rand(100, 2) * 100 # 100行2列，每列的成绩在0-100之间\n",
    "Y = ((X.mean(dim=1)) > 60).float().view(-1, 1) #dim1水平方向取中值后，与60比较得到一个布尔值张量，转为浮点，重塑为[n,1]的张量(-1为自动计算)"
   ]
  },
  {
   "cell_type": "markdown",
   "id": "76bcbfc6-ed19-453c-9058-e03522018393",
   "metadata": {},
   "source": [
    "### 2. 定义MLP模型（2 -> 10 -> 5 -> 1）"
   ]
  },
  {
   "cell_type": "code",
   "execution_count": 23,
   "id": "816a42ec-fdda-4afb-a2d5-63ceda0b7afc",
   "metadata": {},
   "outputs": [],
   "source": [
    "class MLP(nn.Module):\n",
    "    def __init__(self):\n",
    "        super().__init__()\n",
    "        self.fc1 = nn.Linear(2, 10)\n",
    "        self.fc2 = nn.Linear(10, 5)\n",
    "        self.fc3 = nn.Linear(5, 1)\n",
    "\n",
    "    def forward(self, x):\n",
    "        x = F.relu(self.fc1(x))\n",
    "        x = F.relu(self.fc2(x))\n",
    "        x = torch.sigmoid(self.fc3(x))\n",
    "        return x"
   ]
  },
  {
   "cell_type": "markdown",
   "id": "a95def22-ca22-4f32-a58f-6568393923ec",
   "metadata": {},
   "source": [
    "### 3. 模型训练（Adam）"
   ]
  },
  {
   "cell_type": "code",
   "execution_count": 26,
   "id": "44bcc4ed-ce2d-42eb-a5f8-872ea859d25e",
   "metadata": {},
   "outputs": [],
   "source": [
    "model = MLP()\n",
    "loss_fc = nn.BCELoss() # 二元交叉熵损失 -> 二分类问题\n",
    "optimizer = torch.optim.Adam(model.parameters(), lr=1e-2)\n",
    "\n",
    "losses = []\n",
    "for epoch in range(500):\n",
    "    # forward\n",
    "    y_hat = model(X) # 前向传播\n",
    "    loss = loss_fc(y_hat, Y) # 计算预测值与真实值之间的误差\n",
    "    \n",
    "    # backward\n",
    "    optimizer.zero_grad() # 梯度清零\n",
    "    loss.backward() # 反向传播\n",
    "    \n",
    "    # update\n",
    "    optimizer.step() # 更新参数\n",
    "    losses.append(loss.item()) # 记录损失值"
   ]
  },
  {
   "cell_type": "markdown",
   "id": "7b190eb6-f205-4f4f-b93a-ffb887ccadf3",
   "metadata": {},
   "source": [
    "### 4. 可视化训练损失"
   ]
  },
  {
   "cell_type": "code",
   "execution_count": 28,
   "id": "c6576fa8-0e2d-4442-9d1c-5a99b5495e7e",
   "metadata": {},
   "outputs": [
    {
     "data": {
      "image/png": "[encoded data removed]",
      "text/plain": [
       "<Figure size 800x400 with 1 Axes>"
      ]
     },
     "metadata": {},
     "output_type": "display_data"
    }
   ],
   "source": [
    "import matplotlib.pyplot as plt\n",
    "\n",
    "plt.figure(figsize=(8, 4))\n",
    "plt.plot(losses, label=\"train loss\")\n",
    "plt.title(\"MLP Train Loss\")\n",
    "plt.xlabel(\"Epoch\")\n",
    "plt.ylabel(\"Loss\")\n",
    "plt.grid()\n",
    "plt.show()"
   ]
  },
  {
   "cell_type": "markdown",
   "id": "ec55f7c1-7ddf-4e26-b137-524b8b69dad0",
   "metadata": {},
   "source": [
    "### 5. 做预测 + 可视化边界"
   ]
  },
  {
   "cell_type": "code",
   "execution_count": 67,
   "id": "ffa99163-3764-4b88-b118-299ce3a30e16",
   "metadata": {},
   "outputs": [
    {
     "data": {
      "image/png": "[encoded data removed]",
      "text/plain": [
       "<Figure size 640x480 with 2 Axes>"
      ]
     },
     "metadata": {},
     "output_type": "display_data"
    }
   ],
   "source": [
    "# 构建一个网格数据，用于可视化分类边界\n",
    "xx, yy = torch.meshgrid(torch.linspace(0, 100, 100), torch.linspace(0, 100, 100), indexing='xy')\n",
    "grid = torch.cat([xx.reshape(-1, 1), yy.reshape(-1, 1)], dim=1)\n",
    "preds = model(grid).reshape(100, 100).detach().numpy()\n",
    "\n",
    "plt.contourf(xx, yy, preds, levels=50, cmap='coolwarm', alpha=0.6)\n",
    "plt.scatter(X[:, 0], X[:, 1], c=Y.view(-1), cmap='bwr', edgecolor='k')\n",
    "plt.xlabel(\"Math Score\")\n",
    "plt.ylabel(\"English Score\")\n",
    "plt.title(\"MLP Classification Boundary\")\n",
    "plt.colorbar(label=\"Probability of Pass\")\n",
    "plt.grid()\n",
    "plt.show()"
   ]
  },
  {
   "cell_type": "code",
   "execution_count": null,
   "id": "a62c7e73-248a-4d72-954a-3588ab8c9603",
   "metadata": {},
   "outputs": [],
   "source": []
  }
 ],
 "metadata": {
  "kernelspec": {
   "display_name": "pytorch",
   "language": "python",
   "name": "pytorch"
  },
  "language_info": {
   "codemirror_mode": {
    "name": "ipython",
    "version": 3
   },
   "file_extension": ".py",
   "mimetype": "text/x-python",
   "name": "python",
   "nbconvert_exporter": "python",
   "pygments_lexer": "ipython3",
   "version": "3.9.21"
  }
 },
 "nbformat": 4,
 "nbformat_minor": 5
}
