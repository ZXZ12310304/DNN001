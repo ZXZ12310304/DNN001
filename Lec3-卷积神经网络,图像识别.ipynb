{
 "cells": [
  {
   "cell_type": "markdown",
   "metadata": {},
   "source": [
    "## Lec 3. 卷积神经网络 CNN (Convolution Neural Network)\n",
    "\n",
    "- 卷积神经网络 (互相关运算)"
   ]
  },
  {
   "cell_type": "code",
   "execution_count": 1,
   "metadata": {},
   "outputs": [],
   "source": [
    "import torch\n",
    "import torch.nn as nn"
   ]
  },
  {
   "cell_type": "code",
   "execution_count": 5,
   "metadata": {},
   "outputs": [],
   "source": [
    "def corr2d(x, kernel):\n",
    "    \"\"\" 互相关运算函数 \"\"\"\n",
    "    h_x, w_x = x.shape\n",
    "    h_k, w_k = kernel.shape\n",
    "    y = torch.zeros((h_x - h_k + 1, w_x - w_k + 1))\n",
    "    for i in range(y.shape[0]):\n",
    "        for j in range(y.shape[1]):\n",
    "            y[i, j] = (x[i: i + h_k, j: j + w_k] * kernel).sum()\n",
    "    return y"
   ]
  },
  {
   "cell_type": "code",
   "execution_count": 7,
   "metadata": {},
   "outputs": [
    {
     "data": {
      "text/plain": [
       "tensor([[0, 1],\n",
       "        [2, 3]])"
      ]
     },
     "execution_count": 7,
     "metadata": {},
     "output_type": "execute_result"
    }
   ],
   "source": [
    "x = torch.tensor([[0, 1, 2], [3, 4, 5], [6, 7, 8]])\n",
    "kernel = torch.tensor([[0,1], [2,3]])\n",
    "kernel"
   ]
  },
  {
   "cell_type": "code",
   "execution_count": 9,
   "metadata": {},
   "outputs": [
    {
     "data": {
      "text/plain": [
       "tensor([[19., 25.],\n",
       "        [37., 43.]])"
      ]
     },
     "execution_count": 9,
     "metadata": {},
     "output_type": "execute_result"
    }
   ],
   "source": [
    "corr2d(x, kernel)"
   ]
  },
  {
   "cell_type": "code",
   "execution_count": 11,
   "metadata": {},
   "outputs": [
    {
     "data": {
      "text/plain": [
       "tensor([[0, 1],\n",
       "        [1, 0]])"
      ]
     },
     "execution_count": 11,
     "metadata": {},
     "output_type": "execute_result"
    }
   ],
   "source": [
    "x = torch.tensor([[0, 1, 2], [3, 4, 5], [6, 7, 8]])\n",
    "kernel = torch.tensor([[0,1], [1,0]])\n",
    "kernel"
   ]
  },
  {
   "cell_type": "code",
   "execution_count": 13,
   "metadata": {},
   "outputs": [
    {
     "data": {
      "text/plain": [
       "tensor([[ 4.,  6.],\n",
       "        [10., 12.]])"
      ]
     },
     "execution_count": 13,
     "metadata": {},
     "output_type": "execute_result"
    }
   ],
   "source": [
    "corr2d(x, kernel)"
   ]
  },
  {
   "cell_type": "code",
   "execution_count": 9,
   "metadata": {},
   "outputs": [],
   "source": [
    "class Conv2d(nn.Module):\n",
    "    \"\"\" 二维卷积神经网络层 \"\"\"\n",
    "    def __init__(self, kernel_size):\n",
    "        super().__init__()\n",
    "        self.weight = nn.Parameter(torch.rand(kernel_size))\n",
    "        self.bias = nn.Parameter(torch.zeros(1))\n",
    "        \n",
    "    def forward(self, x):\n",
    "        \"\"\" 前向传播方法 \"\"\"\n",
    "        return corr2d(x, self.weight) + self.bias"
   ]
  },
  {
   "cell_type": "code",
   "execution_count": 11,
   "metadata": {},
   "outputs": [
    {
     "data": {
      "text/plain": [
       "Conv2d()"
      ]
     },
     "execution_count": 11,
     "metadata": {},
     "output_type": "execute_result"
    }
   ],
   "source": [
    "model = Conv2d(kernel_size=(2, 2))\n",
    "model"
   ]
  },
  {
   "cell_type": "code",
   "execution_count": 94,
   "metadata": {},
   "outputs": [
    {
     "data": {
      "text/plain": [
       "tensor([[ 4.2098,  6.2108],\n",
       "        [10.2129, 12.2140]], grad_fn=<AddBackward0>)"
      ]
     },
     "execution_count": 94,
     "metadata": {},
     "output_type": "execute_result"
    }
   ],
   "source": [
    "output = model(x)\n",
    "output"
   ]
  },
  {
   "cell_type": "code",
   "execution_count": 104,
   "metadata": {},
   "outputs": [
    {
     "data": {
      "text/plain": [
       "Conv2d(1, 16, kernel_size=(3, 3), stride=(1, 1))"
      ]
     },
     "execution_count": 104,
     "metadata": {},
     "output_type": "execute_result"
    }
   ],
   "source": [
    "model = nn.Conv2d(in_channels=1, out_channels=16, kernel_size=3, stride=1, padding=0) #stride为步长，padding为上下左右是否加一圈0\n",
    "model"
   ]
  },
  {
   "cell_type": "code",
   "execution_count": 113,
   "metadata": {},
   "outputs": [
    {
     "data": {
      "text/plain": [
       "torch.Size([1, 16, 26, 26])"
      ]
     },
     "execution_count": 113,
     "metadata": {},
     "output_type": "execute_result"
    }
   ],
   "source": [
    "# x: [B, C, H, W]\n",
    "# img: [C, H, W] -> unsqueeze(0)\n",
    "output = model(img.unsqueeze(0))\n",
    "output.shape  # output: [B, C, H, W]"
   ]
  },
  {
   "cell_type": "markdown",
   "metadata": {},
   "source": [
    "### 3.1 Fasion-MNIST 图像识别任务 (线性神经网络)"
   ]
  },
  {
   "cell_type": "code",
   "execution_count": 3,
   "metadata": {},
   "outputs": [
    {
     "data": {
      "text/plain": [
       "(60000, 10000)"
      ]
     },
     "execution_count": 3,
     "metadata": {},
     "output_type": "execute_result"
    }
   ],
   "source": [
    "import torch\n",
    "import torchvision\n",
    "from torch.utils import data\n",
    "from torchvision import transforms\n",
    "\n",
    "trans = transforms.ToTensor()\n",
    "mnist_train = torchvision.datasets.FashionMNIST(root=\"../data\", train=True, transform=trans, download = True)\n",
    "mnist_test = torchvision.datasets.FashionMNIST(root=\"../data\", train=False, transform=trans, download = True)\n",
    "\n",
    "len(mnist_train), len(mnist_test)"
   ]
  },
  {
   "cell_type": "code",
   "execution_count": 5,
   "metadata": {},
   "outputs": [],
   "source": [
    "import torch.nn as nn\n",
    "\n",
    "class LinearClassifier(nn.Module):\n",
    "    \"\"\" 基于线性神经网络的分类模型 \"\"\"\n",
    "    def __init__(self):\n",
    "        super().__init__()\n",
    "        self.fc = nn.Sequential(nn.Linear(784, 256),  #28*28=784\n",
    "                                nn.ReLU(), \n",
    "                                nn.Linear(256, 10))\n",
    "        \n",
    "    def forward(self, x):\n",
    "        \"\"\" 前向传播方法 \"\"\"\n",
    "        return self.fc(x)"
   ]
  },
  {
   "cell_type": "code",
   "execution_count": 7,
   "metadata": {},
   "outputs": [
    {
     "data": {
      "text/plain": [
       "235"
      ]
     },
     "execution_count": 7,
     "metadata": {},
     "output_type": "execute_result"
    }
   ],
   "source": [
    "from torch.utils.data import DataLoader\n",
    "\n",
    "train_dataloader = DataLoader(mnist_train, batch_size=256, shuffle=True)\n",
    "test_dataloader = DataLoader(mnist_test, batch_size=256, shuffle=False)\n",
    "\n",
    "len(train_dataloader)"
   ]
  },
  {
   "cell_type": "code",
   "execution_count": 9,
   "metadata": {},
   "outputs": [
    {
     "data": {
      "text/plain": [
       "torch.Size([1, 28, 28])"
      ]
     },
     "execution_count": 9,
     "metadata": {},
     "output_type": "execute_result"
    }
   ],
   "source": [
    "img,lable = mnist_test[0]\n",
    "img.shape"
   ]
  },
  {
   "cell_type": "code",
   "execution_count": 11,
   "metadata": {},
   "outputs": [],
   "source": [
    "def train_model(model, train_dataloader, loss_func, optimizer):\n",
    "    \"\"\" 模型训练函数 \"\"\"\n",
    "    model.train()\n",
    "    total_loss = 0.\n",
    "    for x, y in train_dataloader:\n",
    "        # x: [batch_size, 1, 28, 28]\n",
    "        # y: [batch_size]\n",
    "        y_hat = model(x.view(x.shape[0], -1)) #拉平\n",
    "        loss = loss_func(y_hat, y)\n",
    "        \n",
    "        optimizer.zero_grad()\n",
    "        loss.backward()\n",
    "        optimizer.step()       \n",
    "        \n",
    "        total_loss += loss.item()\n",
    "    return total_loss / len(train_dataloader)\n",
    "\n",
    "\n",
    "def test_model(model, test_dataloader, loss_func):\n",
    "    \"\"\" 模型测试函数 \"\"\"\n",
    "    model.eval()\n",
    "    total_loss = 0.\n",
    "    for x, y in test_dataloader:\n",
    "        # x: [batch_size, 1, 28, 28]\n",
    "        # y: [batch_size]\n",
    "        y_hat = model(x.view(x.shape[0], -1))\n",
    "        loss = loss_func(y_hat, y)\n",
    "        \n",
    "        total_loss += loss.item()\n",
    "    return total_loss / len(test_dataloader)"
   ]
  },
  {
   "cell_type": "code",
   "execution_count": 13,
   "metadata": {},
   "outputs": [],
   "source": [
    "model = LinearClassifier()\n",
    "loss_func = nn.CrossEntropyLoss()\n",
    "optimizer = torch.optim.Adam(model.parameters(), lr=1e-3)"
   ]
  },
  {
   "cell_type": "code",
   "execution_count": 15,
   "metadata": {},
   "outputs": [
    {
     "name": "stdout",
     "output_type": "stream",
     "text": [
      "0.6183295192870688\n",
      "0.42693900719602057\n",
      "0.38800790170405774\n",
      "0.35813935570260313\n",
      "0.3366543187105909\n",
      "0.323394046692138\n",
      "0.31016531776874623\n",
      "0.296264582301708\n",
      "0.2832437628127159\n",
      "0.2762103314095355\n",
      "0.2654928355140889\n",
      "0.25796518858442913\n",
      "0.25147654014699\n",
      "0.24300739834917354\n",
      "0.23829601102686943\n",
      "0.23195499790475724\n",
      "0.22652306791315688\n",
      "0.21883412865882224\n",
      "0.2148375595503665\n",
      "0.20956691975923294\n",
      "0.20384826190928196\n",
      "0.19929106596936572\n",
      "0.19498753592054896\n",
      "0.19032067520187257\n",
      "0.18506035066031395\n",
      "0.1805073176609709\n",
      "0.17730824966379938\n",
      "0.1730315715074539\n",
      "0.1698423424299727\n",
      "0.16404250539997792\n",
      "0.16105227603557262\n",
      "0.15745146813544822\n",
      "0.15355690188230353\n",
      "0.15223694342247984\n",
      "0.14550082116050922\n",
      "0.1434841734297732\n",
      "0.14010177035915092\n",
      "0.13730516687352606\n",
      "0.13310704370762438\n",
      "0.1317307066727192\n",
      "0.12988767877538154\n",
      "0.1242291934788227\n",
      "0.1253690410167613\n",
      "0.12187544895296401\n",
      "0.11894614836002917\n",
      "0.1145716890692711\n",
      "0.11327562018277797\n",
      "0.11275556531358273\n",
      "0.10608242658224512\n",
      "0.10346206279194102\n"
     ]
    }
   ],
   "source": [
    "n_epoch = 50\n",
    "\n",
    "train_loss_list = []\n",
    "test_loss_list = []\n",
    "for i in range(n_epoch):\n",
    "    train_loss = train_model(model, train_dataloader, loss_func, optimizer)\n",
    "    test_loss = test_model(model, train_dataloader, loss_func)\n",
    "    \n",
    "    train_loss_list.append(train_loss)\n",
    "    test_loss_list.append(test_loss)\n",
    "    print(train_loss)"
   ]
  },
  {
   "cell_type": "code",
   "execution_count": 19,
   "metadata": {},
   "outputs": [
    {
     "data": {
      "image/png": "[encoded data removed]",
      "text/plain": [
       "<Figure size 800x400 with 1 Axes>"
      ]
     },
     "metadata": {},
     "output_type": "display_data"
    }
   ],
   "source": [
    "import matplotlib.pyplot as plt\n",
    "# import os\n",
    "# os.environ['KMP_DUPLICATE_LIB_OK'] = 'True'\n",
    "\n",
    "plt.figure(figsize=(8, 4))\n",
    "plt.plot(train_loss_list, label=\"train loss\")\n",
    "plt.plot(test_loss_list, label=\"test loss\")\n",
    "plt.title(\"Model Loss\")\n",
    "plt.grid()\n",
    "plt.legend()\n",
    "plt.show()"
   ]
  },
  {
   "cell_type": "markdown",
   "metadata": {},
   "source": [
    "### 3.2 Fasion-MNIST 图像识别任务 (线性神经网络)"
   ]
  },
  {
   "cell_type": "code",
   "execution_count": 21,
   "metadata": {},
   "outputs": [],
   "source": [
    "class LeNet(nn.Module):\n",
    "    \"\"\" 二维卷积神经网络分类模型 \"\"\"\n",
    "    def __init__(self):\n",
    "        super().__init__()\n",
    "        self.conv = nn.Sequential(nn.Conv2d(1, 6, kernel_size=5, padding=2), \n",
    "                                  nn.Sigmoid(), \n",
    "                                  nn.AvgPool2d(kernel_size=2, stride=2), \n",
    "                                 \n",
    "                                  nn.Conv2d(6, 16, kernel_size=5), \n",
    "                                  nn.Sigmoid(), \n",
    "                                  nn.AvgPool2d(kernel_size=2, stride=2))\n",
    "        self.flatten = nn.Flatten()\n",
    "        self.fc = nn.Sequential(nn.Linear(16*5*5, 120), \n",
    "                                nn.Sigmoid(), \n",
    "                                \n",
    "                                nn.Linear(120, 84), \n",
    "                                nn.Sigmoid(), \n",
    "                                \n",
    "                                nn.Linear(84, 10))\n",
    "        \n",
    "    def forward(self, x):\n",
    "        \"\"\" 前向传播方法 \"\"\"\n",
    "        feat_map = self.conv(x)\n",
    "        output = self.flatten(feat_map)\n",
    "        return self.fc(output)"
   ]
  },
  {
   "cell_type": "code",
   "execution_count": 33,
   "metadata": {},
   "outputs": [
    {
     "data": {
      "text/plain": [
       "LeNet(\n",
       "  (conv): Sequential(\n",
       "    (0): Conv2d(1, 6, kernel_size=(5, 5), stride=(1, 1), padding=(2, 2))\n",
       "    (1): Sigmoid()\n",
       "    (2): AvgPool2d(kernel_size=2, stride=2, padding=0)\n",
       "    (3): Conv2d(6, 16, kernel_size=(5, 5), stride=(1, 1))\n",
       "    (4): Sigmoid()\n",
       "    (5): AvgPool2d(kernel_size=2, stride=2, padding=0)\n",
       "  )\n",
       "  (flatten): Flatten(start_dim=1, end_dim=-1)\n",
       "  (fc): Sequential(\n",
       "    (0): Linear(in_features=400, out_features=120, bias=True)\n",
       "    (1): Sigmoid()\n",
       "    (2): Linear(in_features=120, out_features=84, bias=True)\n",
       "    (3): Sigmoid()\n",
       "    (4): Linear(in_features=84, out_features=10, bias=True)\n",
       "  )\n",
       ")"
      ]
     },
     "execution_count": 33,
     "metadata": {},
     "output_type": "execute_result"
    }
   ],
   "source": [
    "model = LeNet()\n",
    "model"
   ]
  },
  {
   "cell_type": "code",
   "execution_count": 43,
   "metadata": {},
   "outputs": [
    {
     "data": {
      "text/plain": [
       "(torch.Size([1, 28, 28]), torch.Size([28, 28]))"
      ]
     },
     "execution_count": 43,
     "metadata": {},
     "output_type": "execute_result"
    }
   ],
   "source": [
    "img.shape\n",
    "a = img.squeeze(dim=0)\n",
    "img.shape,a.shape"
   ]
  },
  {
   "cell_type": "code",
   "execution_count": 59,
   "metadata": {},
   "outputs": [
    {
     "data": {
      "text/plain": [
       "(torch.Size([1, 28, 28]), torch.Size([1, 1, 28, 28]))"
      ]
     },
     "execution_count": 59,
     "metadata": {},
     "output_type": "execute_result"
    }
   ],
   "source": [
    "img.shape\n",
    "b = img.unsqueeze(dim=0)\n",
    "img.shape,b.shape"
   ]
  },
  {
   "cell_type": "code",
   "execution_count": 53,
   "metadata": {},
   "outputs": [
    {
     "data": {
      "text/plain": [
       "torch.Size([1, 10])"
      ]
     },
     "execution_count": 53,
     "metadata": {},
     "output_type": "execute_result"
    }
   ],
   "source": [
    "output = model(img.unsqueeze(0))"
   ]
  },
  {
   "cell_type": "code",
   "execution_count": 37,
   "metadata": {},
   "outputs": [],
   "source": [
    "model = LeNet()\n",
    "loss_func = nn.CrossEntropyLoss()\n",
    "optimizer = torch.optim.Adam(model.parameters(), lr=1e-3)"
   ]
  },
  {
   "cell_type": "code",
   "execution_count": 45,
   "metadata": {},
   "outputs": [],
   "source": [
    "def train_model(model, train_dataloader, loss_func, optimizer):\n",
    "    \"\"\" 模型训练函数 \"\"\"\n",
    "    model.train()\n",
    "    total_loss = 0.\n",
    "    for x, y in train_dataloader:\n",
    "        # x: [batch_size, 1, 28, 28]\n",
    "        # y: [batch_size]\n",
    "        y_hat = model(x.squeeze(dim=0))\n",
    "        loss = loss_func(y_hat, y)\n",
    "        \n",
    "        optimizer.zero_grad()\n",
    "        loss.backward()\n",
    "        optimizer.step()       \n",
    "        \n",
    "        total_loss += loss.item()\n",
    "    return total_loss / len(train_dataloader)\n",
    "\n",
    "\n",
    "def test_model(model, test_dataloader, loss_func):\n",
    "    \"\"\" 模型测试函数 \"\"\"\n",
    "    model.eval()\n",
    "    total_loss = 0.\n",
    "    for x, y in test_dataloader:\n",
    "        # x: [batch_size, 1, 28, 28]\n",
    "        # y: [batch_size]\n",
    "        y_hat = model(x.squeeze(dim=0))\n",
    "        loss = loss_func(y_hat, y)\n",
    "        \n",
    "        total_loss += loss.item()\n",
    "    return total_loss / len(test_dataloader)"
   ]
  },
  {
   "cell_type": "code",
   "execution_count": 51,
   "metadata": {},
   "outputs": [
    {
     "name": "stdout",
     "output_type": "stream",
     "text": [
      "0.5843636691570282\n",
      "0.5544210286850625\n",
      "0.5280683399514949\n",
      "0.5054143669757437\n",
      "0.48380254418291946\n",
      "0.46437602664561983\n",
      "0.44947772901108923\n",
      "0.43722371382916225\n",
      "0.428964434532409\n",
      "0.4186870044850289\n",
      "0.4099504770116603\n",
      "0.40175004626842253\n",
      "0.39297485567153767\n",
      "0.3871713735955827\n",
      "0.38082678026341377\n",
      "0.3764008491597277\n",
      "0.36985708823863495\n",
      "0.36482017997731553\n",
      "0.36008630490049404\n",
      "0.3562120467424393\n",
      "0.352732142108552\n",
      "0.3465861090954314\n",
      "0.3427244729818182\n",
      "0.3389113153548951\n",
      "0.33374699480990144\n",
      "0.3306206579538102\n",
      "0.32633486872023726\n",
      "0.32347381552483173\n",
      "0.3211397331445775\n",
      "0.31604999075544643\n"
     ]
    }
   ],
   "source": [
    "n_epoch = 30\n",
    "\n",
    "train_loss_list = []\n",
    "test_loss_list = []\n",
    "for i in range(n_epoch):\n",
    "    train_loss = train_model(model, train_dataloader, loss_func, optimizer)\n",
    "    test_loss = test_model(model, train_dataloader, loss_func)\n",
    "    \n",
    "    train_loss_list.append(train_loss)\n",
    "    test_loss_list.append(test_loss)\n",
    "    print(train_loss)"
   ]
  },
  {
   "cell_type": "code",
   "execution_count": 55,
   "metadata": {},
   "outputs": [
    {
     "data": {
      "image/png": "[encoded data removed]",
      "text/plain": [
       "<Figure size 800x400 with 1 Axes>"
      ]
     },
     "metadata": {},
     "output_type": "display_data"
    }
   ],
   "source": [
    "import matplotlib.pyplot as plt\n",
    "\n",
    "plt.figure(figsize=(8, 4))\n",
    "plt.plot(train_loss_list, label=\"train loss\")\n",
    "plt.plot(test_loss_list, label=\"test loss\")\n",
    "plt.title(\"Model Loss\")\n",
    "plt.grid()\n",
    "plt.legend()\n",
    "plt.show()"
   ]
  },
  {
   "cell_type": "code",
   "execution_count": 65,
   "metadata": {},
   "outputs": [],
   "source": [
    "def train_model(model, train_dataloader, loss_func, optimizer):\n",
    "    \"\"\" 模型训练函数 \"\"\"\n",
    "    model.train()\n",
    "    total_loss = 0.\n",
    "    for x, y in train_dataloader:\n",
    "        # x: [batch_size, 1, 28, 28]\n",
    "        # y: [batch_size]\n",
    "        y_hat = model(x)\n",
    "        loss = loss_func(y_hat, y)\n",
    "        \n",
    "        optimizer.zero_grad()\n",
    "        loss.backward()\n",
    "        optimizer.step()       \n",
    "        \n",
    "        total_loss += loss.item()\n",
    "    return total_loss / len(train_dataloader)\n",
    "\n",
    "\n",
    "def test_model(model, test_dataloader, loss_func):\n",
    "    \"\"\" 模型测试函数 \"\"\"\n",
    "    model.eval()\n",
    "    total_loss = 0.\n",
    "    for x, y in test_dataloader:\n",
    "        # x: [batch_size, 1, 28, 28]\n",
    "        # y: [batch_size]\n",
    "        y_hat = model(x)\n",
    "        loss = loss_func(y_hat, y)\n",
    "        \n",
    "        total_loss += loss.item()\n",
    "    return total_loss / len(test_dataloader)"
   ]
  },
  {
   "cell_type": "code",
   "execution_count": 67,
   "metadata": {},
   "outputs": [
    {
     "name": "stdout",
     "output_type": "stream",
     "text": [
      "0.31608112708051156\n",
      "0.31308637153595054\n",
      "0.3105176355610503\n",
      "0.3068879795835373\n",
      "0.30675320092667924\n",
      "0.3047604450520049\n",
      "0.30139945637672505\n",
      "0.29987390104760514\n",
      "0.2968379145607035\n",
      "0.29515342490470153\n",
      "0.29458404056569365\n",
      "0.2905996798834902\n",
      "0.2893656690704062\n",
      "0.28974590003490447\n",
      "0.284214796981913\n",
      "0.28208434721256825\n",
      "0.2823683568771849\n",
      "0.27978460788726806\n",
      "0.2780524775702903\n",
      "0.27664736953187496\n",
      "0.27522166073322296\n",
      "0.2752013681416816\n",
      "0.27080024189137397\n",
      "0.2698205128629157\n",
      "0.2690866113343137\n",
      "0.26657805354037184\n",
      "0.2650482230046962\n",
      "0.26310472405971363\n",
      "0.26262640686745337\n",
      "0.26252146306190083\n"
     ]
    }
   ],
   "source": [
    "n_epoch = 30\n",
    "\n",
    "train_loss_list = []\n",
    "test_loss_list = []\n",
    "for i in range(n_epoch):\n",
    "    train_loss = train_model(model, train_dataloader, loss_func, optimizer)\n",
    "    test_loss = test_model(model, train_dataloader, loss_func)\n",
    "    \n",
    "    train_loss_list.append(train_loss)\n",
    "    test_loss_list.append(test_loss)\n",
    "    print(train_loss)"
   ]
  },
  {
   "cell_type": "code",
   "execution_count": 68,
   "metadata": {},
   "outputs": [
    {
     "data": {
      "image/png": "[encoded data removed]",
      "text/plain": [
       "<Figure size 800x400 with 1 Axes>"
      ]
     },
     "metadata": {},
     "output_type": "display_data"
    }
   ],
   "source": [
    "import matplotlib.pyplot as plt\n",
    "\n",
    "plt.figure(figsize=(8, 4))\n",
    "plt.plot(train_loss_list, label=\"train loss\")\n",
    "plt.plot(test_loss_list, label=\"test loss\")\n",
    "plt.title(\"Model Loss\")\n",
    "plt.grid()\n",
    "plt.legend()\n",
    "plt.show()"
   ]
  },
  {
   "cell_type": "code",
   "execution_count": null,
   "metadata": {},
   "outputs": [],
   "source": [
    "1. Load Dataset\n",
    "2. Model\n",
    "(model, loss_func, optimizer, device)\n",
    "3. Train Model\n",
    "4. Test Model\n",
    "5. Plot Loss (epoch>=30)"
   ]
  }
 ],
 "metadata": {
  "kernelspec": {
   "display_name": "pytorch",
   "language": "python",
   "name": "pytorch"
  },
  "language_info": {
   "codemirror_mode": {
    "name": "ipython",
    "version": 3
   },
   "file_extension": ".py",
   "mimetype": "text/x-python",
   "name": "python",
   "nbconvert_exporter": "python",
   "pygments_lexer": "ipython3",
   "version": "3.9.21"
  }
 },
 "nbformat": 4,
 "nbformat_minor": 4
}
