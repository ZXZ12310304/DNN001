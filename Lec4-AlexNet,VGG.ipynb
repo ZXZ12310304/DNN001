{
 "cells": [
  {
   "cell_type": "markdown",
   "metadata": {},
   "source": [
    "## Lec 4. 现代卷积神经网络\n",
    "\n",
    "- LeNet `卷积神经网络` (1990.)\n",
    "- AlexNet `深度卷积神经网络`  (2012.)\n",
    "- VGG `模块化的卷积神经网络` (2014.)\n",
    "- ResNet `残差结构的卷积神经网络` (2016.)\n",
    "- DenseNet `稠密卷积神经网络` (2017.)\n",
    "- FAST-CNN / FAST-RCNN .....\n",
    "- YOLOv1 - YOLOv12 (2016. - 2025.)"
   ]
  },
  {
   "cell_type": "markdown",
   "metadata": {},
   "source": [
    "### 4.1 AlexNet\n",
    "\n",
    "- `ImageNet 数据集` (3 x 224 x 224)\n",
    "- 1个11x11的大卷积层，然后跟着5x5中型卷积层，再紧接着连续三个3x3的卷积层\n",
    "- 激活函数从 Sigmoid 换成了 ReLU\n",
    "\n",
    "![AlexNet网络结构图](https://zh.d2l.ai/_images/alexnet.svg)\n"
   ]
  },
  {
   "cell_type": "code",
   "execution_count": 1,
   "metadata": {},
   "outputs": [],
   "source": [
    "import torch\n",
    "import torch.nn as nn"
   ]
  },
  {
   "cell_type": "code",
   "execution_count": 30,
   "metadata": {},
   "outputs": [],
   "source": [
    "class AlexNet(nn.Module):\n",
    "    \"\"\" AlexNet 深层卷积神经网络 \"\"\"\n",
    "    def __init__(self):\n",
    "        super().__init__()\n",
    "        # 卷积层\n",
    "        self.conv = nn.Sequential(nn.Conv2d(1, 96, kernel_size=11, stride=4, padding=1), \n",
    "                                  nn.ReLU(), \n",
    "                                  nn.MaxPool2d(kernel_size=3, stride=2), \n",
    "                                  \n",
    "                                  nn.Conv2d(96, 256, kernel_size=5, padding=2), \n",
    "                                  nn.ReLU(), \n",
    "                                  nn.MaxPool2d(kernel_size=3, stride=2), \n",
    "                                  \n",
    "                                  # 使用3个连续的 3x3 卷积层\n",
    "                                  nn.Conv2d(256, 384, kernel_size=3, padding=1), \n",
    "                                  nn.ReLU(), \n",
    "                                  nn.Conv2d(384, 384, kernel_size=3, padding=1), \n",
    "                                  nn.ReLU(), \n",
    "                                  nn.Conv2d(384, 256, kernel_size=3, padding=1), \n",
    "                                  nn.ReLU(), \n",
    "                                  nn.MaxPool2d(kernel_size=3, stride=2), \n",
    "                                  \n",
    "                                  nn.Flatten())\n",
    "        \n",
    "        self.fc = nn.Sequential(nn.Linear(5*5*256, 4096), \n",
    "                                nn.ReLU(), \n",
    "                                nn.Linear(4096, 4096), \n",
    "                                nn.ReLU(), \n",
    "                                nn.Linear(4096, 10))\n",
    "        \n",
    "    def forward(self, x):\n",
    "        \"\"\" 前向传播方法 \"\"\"\n",
    "        x_flatten = self.conv(x)\n",
    "        return self.fc(x_flatten)"
   ]
  },
  {
   "cell_type": "code",
   "execution_count": 32,
   "metadata": {},
   "outputs": [],
   "source": [
    "model = AlexNet()"
   ]
  },
  {
   "cell_type": "code",
   "execution_count": 34,
   "metadata": {},
   "outputs": [
    {
     "data": {
      "text/plain": [
       "torch.Size([16, 10])"
      ]
     },
     "execution_count": 34,
     "metadata": {},
     "output_type": "execute_result"
    }
   ],
   "source": [
    "x = torch.rand(16, 1, 224, 224)\n",
    "output = model(x)\n",
    "output.shape"
   ]
  },
  {
   "cell_type": "code",
   "execution_count": 36,
   "metadata": {},
   "outputs": [],
   "source": [
    "y_true = 0"
   ]
  },
  {
   "cell_type": "code",
   "execution_count": 38,
   "metadata": {},
   "outputs": [
    {
     "data": {
      "text/plain": [
       "1"
      ]
     },
     "execution_count": 38,
     "metadata": {},
     "output_type": "execute_result"
    }
   ],
   "source": [
    "y_true += (torch.tensor([9, 0, 1,2,3,4,5,6,7,8,9,0, 1,2,3,4]) == torch.argmax(output, dim=-1)).sum().item()\n",
    "y_true"
   ]
  },
  {
   "cell_type": "markdown",
   "metadata": {},
   "source": [
    "#### 4.1.1 DataLoader"
   ]
  },
  {
   "cell_type": "code",
   "execution_count": 3,
   "metadata": {},
   "outputs": [
    {
     "data": {
      "text/plain": [
       "(60000, 10000)"
      ]
     },
     "execution_count": 3,
     "metadata": {},
     "output_type": "execute_result"
    }
   ],
   "source": [
    "import torchvision\n",
    "import torchvision.transforms as transforms\n",
    "from torch.utils import data\n",
    "from torch.utils.data import DataLoader\n",
    "\n",
    "trans = transforms.Compose([transforms.ToTensor(), \n",
    "                            transforms.Resize((224, 224))])\n",
    "\n",
    "mnist_train = torchvision.datasets.FashionMNIST(root=\"../data\", train=True, transform=trans, download = True)\n",
    "mnist_test = torchvision.datasets.FashionMNIST(root=\"../data\", train=False, transform=trans, download = True)\n",
    "\n",
    "len(mnist_train), len(mnist_test)"
   ]
  },
  {
   "cell_type": "code",
   "execution_count": 5,
   "metadata": {},
   "outputs": [
    {
     "data": {
      "text/plain": [
       "(235, 40)"
      ]
     },
     "execution_count": 5,
     "metadata": {},
     "output_type": "execute_result"
    }
   ],
   "source": [
    "train_dataloader = DataLoader(mnist_train, batch_size=256, shuffle=True)\n",
    "test_dataloader = DataLoader(mnist_test, batch_size=256, shuffle=False)\n",
    "\n",
    "len(train_dataloader), len(test_dataloader)"
   ]
  },
  {
   "cell_type": "markdown",
   "metadata": {},
   "source": [
    "#### 4.1.2 Model"
   ]
  },
  {
   "cell_type": "code",
   "execution_count": 7,
   "metadata": {},
   "outputs": [
    {
     "data": {
      "text/plain": [
       "device(type='cuda')"
      ]
     },
     "execution_count": 7,
     "metadata": {},
     "output_type": "execute_result"
    }
   ],
   "source": [
    "device = torch.device(\"cuda\") if torch.cuda.is_available() else torch.device(\"cpu\")\n",
    "device"
   ]
  },
  {
   "cell_type": "code",
   "execution_count": 48,
   "metadata": {},
   "outputs": [
    {
     "data": {
      "text/plain": [
       "AlexNet(\n",
       "  (conv): Sequential(\n",
       "    (0): Conv2d(1, 96, kernel_size=(11, 11), stride=(4, 4), padding=(1, 1))\n",
       "    (1): ReLU()\n",
       "    (2): MaxPool2d(kernel_size=3, stride=2, padding=0, dilation=1, ceil_mode=False)\n",
       "    (3): Conv2d(96, 256, kernel_size=(5, 5), stride=(1, 1), padding=(2, 2))\n",
       "    (4): ReLU()\n",
       "    (5): MaxPool2d(kernel_size=3, stride=2, padding=0, dilation=1, ceil_mode=False)\n",
       "    (6): Conv2d(256, 384, kernel_size=(3, 3), stride=(1, 1), padding=(1, 1))\n",
       "    (7): ReLU()\n",
       "    (8): Conv2d(384, 384, kernel_size=(3, 3), stride=(1, 1), padding=(1, 1))\n",
       "    (9): ReLU()\n",
       "    (10): Conv2d(384, 256, kernel_size=(3, 3), stride=(1, 1), padding=(1, 1))\n",
       "    (11): ReLU()\n",
       "    (12): MaxPool2d(kernel_size=3, stride=2, padding=0, dilation=1, ceil_mode=False)\n",
       "    (13): Flatten(start_dim=1, end_dim=-1)\n",
       "  )\n",
       "  (fc): Sequential(\n",
       "    (0): Linear(in_features=6400, out_features=4096, bias=True)\n",
       "    (1): ReLU()\n",
       "    (2): Linear(in_features=4096, out_features=4096, bias=True)\n",
       "    (3): ReLU()\n",
       "    (4): Linear(in_features=4096, out_features=10, bias=True)\n",
       "  )\n",
       ")"
      ]
     },
     "execution_count": 48,
     "metadata": {},
     "output_type": "execute_result"
    }
   ],
   "source": [
    "model = AlexNet().to(device)\n",
    "model"
   ]
  },
  {
   "cell_type": "code",
   "execution_count": 9,
   "metadata": {},
   "outputs": [],
   "source": [
    "def count_parameters(model: nn.Module):\n",
    "    \"\"\" 计算模型参数量函数 \"\"\"\n",
    "    return sum(p.numel() for p in model.parameters())"
   ]
  },
  {
   "cell_type": "code",
   "execution_count": 56,
   "metadata": {},
   "outputs": [
    {
     "data": {
      "text/plain": [
       "46764746"
      ]
     },
     "execution_count": 56,
     "metadata": {},
     "output_type": "execute_result"
    }
   ],
   "source": [
    "count_parameters(model)"
   ]
  },
  {
   "cell_type": "markdown",
   "metadata": {},
   "source": [
    "#### 4.1.3 Train & Test Model"
   ]
  },
  {
   "cell_type": "code",
   "execution_count": 189,
   "metadata": {},
   "outputs": [
    {
     "data": {
      "text/plain": [
       "(torch.Size([256, 1, 224, 224]), torch.Size([256]))"
      ]
     },
     "execution_count": 189,
     "metadata": {},
     "output_type": "execute_result"
    }
   ],
   "source": [
    "x, y = next(iter(train_dataloader))\n",
    "x.shape, y.shape"
   ]
  },
  {
   "cell_type": "code",
   "execution_count": 191,
   "metadata": {},
   "outputs": [],
   "source": [
    "def train_model(model,train_dataloader,loss_func,optimizer):\n",
    "    \"\"\" 模型训练函数 \"\"\"\n",
    "    model.train()\n",
    "    total_loss = 0.\n",
    "    for x,y in train_dataloader:\n",
    "        y_hat = model(x.to(device))\n",
    "        loss = loss_func(y_hat,y.to(device))\n",
    "\n",
    "        optimizer.zero_grad()\n",
    "        loss.backward()\n",
    "        optimizer.step()\n",
    "\n",
    "        total_loss += loss.item()\n",
    "    return total_loss / len(train_dataloader)\n",
    "\n",
    "def test_model(model,train_dataloader,loss_func):\n",
    "    \"\"\" 模型测试函数 \"\"\"\n",
    "    model.eval()\n",
    "\n",
    "    y_true = 0\n",
    "    total_loss = 0.\n",
    "    for x,y in train_dataloader:\n",
    "        y_hat = model(x.to(device))\n",
    "        loss = loss_func(y_hat,y.to(device))\n",
    "\n",
    "        y_true += (y == torch.argmax(y_hat, dim=-1)).sum().item()\n",
    "\n",
    "        total_loss += loss.item()\n",
    "    print(f'Acc:{round(y_true / len(test_dataloader.dataset))}')\n",
    "    return total_loss / len(test_dataloader)"
   ]
  },
  {
   "cell_type": "code",
   "execution_count": 193,
   "metadata": {},
   "outputs": [],
   "source": [
    "def train_model(model, train_dataloader, loss_func, optimizer):\n",
    "    \"\"\" 模型训练函数 \"\"\"\n",
    "    model.train()\n",
    "    total_loss = 0.\n",
    "    for x, y in train_dataloader:\n",
    "        # x: [bs, 1, 224, 224]\n",
    "        # y: [batch_size]\n",
    "        y_hat = model(x.to(device))\n",
    "        loss = loss_func(y_hat, y.to(device))\n",
    "        \n",
    "        optimizer.zero_grad()\n",
    "        loss.backward()\n",
    "        optimizer.step()\n",
    "        \n",
    "        total_loss += loss.item()\n",
    "    return total_loss / len(train_dataloader)\n",
    "\n",
    "def test_model(model, test_dataloader, loss_func):\n",
    "    \"\"\" 模型测试函数 \"\"\"\n",
    "    model.eval()\n",
    "    \n",
    "    y_true = 0\n",
    "    total_loss = 0.\n",
    "    for x, y in test_dataloader:\n",
    "        # x: [bs, 1, 224, 224]\n",
    "        # y: [batch_size]\n",
    "        y_hat = model(x.to(device))\n",
    "        loss = loss_func(y_hat, y.to(device))\n",
    "        \n",
    "        y_true += (y.to(device) == torch.argmax(y_hat, dim=-1)).sum().item()\n",
    "        \n",
    "        total_loss += loss.item()\n",
    "\n",
    "    avg_loss = total_loss / len(train_dataloader)\n",
    "    acc = round(y_true / len(test_dataloader.dataset), 3)\n",
    "    return avg_loss, acc"
   ]
  },
  {
   "cell_type": "code",
   "execution_count": 82,
   "metadata": {},
   "outputs": [],
   "source": [
    "model = AlexNet().to(device)\n",
    "loss_func = nn.CrossEntropyLoss()\n",
    "optimizer = torch.optim.Adam(model.parameters(), lr=1e-3)"
   ]
  },
  {
   "cell_type": "code",
   "execution_count": 84,
   "metadata": {},
   "outputs": [
    {
     "name": "stdout",
     "output_type": "stream",
     "text": [
      "0.7140229557422881\n",
      "0.34150512516498566\n",
      "0.29000242606122445\n",
      "0.25015607863030537\n",
      "0.2255410944527768\n"
     ]
    }
   ],
   "source": [
    "n_epoch = 5\n",
    "\n",
    "train_loss_list = []\n",
    "test_loss_list = []\n",
    "for i in range(n_epoch):\n",
    "    train_loss = train_model(model, train_dataloader, loss_func, optimizer)\n",
    "    test_loss, acc = test_model(model, train_dataloader, loss_func)\n",
    "    \n",
    "    train_loss_list.append(train_loss)\n",
    "    test_loss_list.append(test_loss)\n",
    "    print(train_loss)"
   ]
  },
  {
   "cell_type": "code",
   "execution_count": 86,
   "metadata": {},
   "outputs": [
    {
     "data": {
      "image/png": "[encoded data removed]",
      "text/plain": [
       "<Figure size 800x400 with 1 Axes>"
      ]
     },
     "metadata": {},
     "output_type": "display_data"
    }
   ],
   "source": [
    "import matplotlib.pyplot as plt\n",
    "import os\n",
    "os.environ['KMP_DUPLICATE_LIB_OK'] = 'True'\n",
    "\n",
    "plt.figure(figsize=(8, 4))\n",
    "plt.plot(train_loss_list, label=\"train loss\")\n",
    "plt.plot(test_loss_list, label=\"test loss\")\n",
    "plt.title(\"Model Loss\")\n",
    "plt.grid()\n",
    "plt.legend()\n",
    "plt.show()"
   ]
  },
  {
   "cell_type": "markdown",
   "metadata": {},
   "source": [
    "### 4.2 VGG 视觉几何组（visual geometry group）\n",
    "\n",
    "- 模块化的卷积神经网络\n",
    "\n",
    "![VGG网络结构图](https://zh.d2l.ai/_images/vgg.svg)\n",
    "\n"
   ]
  },
  {
   "cell_type": "code",
   "execution_count": 11,
   "metadata": {},
   "outputs": [],
   "source": [
    "def vgg_block(num_conv: int, in_channels: int, out_channels: int) -> nn.Module: #num_conv有几个卷积部分\n",
    "    \"\"\" VGG块构建函数 \"\"\"\n",
    "    layers = []\n",
    "    for i in range(num_conv):\n",
    "        layers.append(nn.Conv2d(in_channels, out_channels, kernel_size=3, padding=1))\n",
    "        layers.append(nn.ReLU())\n",
    "        in_channels = out_channels\n",
    "    layers.append(nn.MaxPool2d(kernel_size=2, stride=2))\n",
    "    return nn.Sequential(*layers)"
   ]
  },
  {
   "cell_type": "code",
   "execution_count": 13,
   "metadata": {},
   "outputs": [
    {
     "data": {
      "text/plain": [
       "Sequential(\n",
       "  (0): Conv2d(1, 6, kernel_size=(3, 3), stride=(1, 1), padding=(1, 1))\n",
       "  (1): ReLU()\n",
       "  (2): Conv2d(6, 6, kernel_size=(3, 3), stride=(1, 1), padding=(1, 1))\n",
       "  (3): ReLU()\n",
       "  (4): Conv2d(6, 6, kernel_size=(3, 3), stride=(1, 1), padding=(1, 1))\n",
       "  (5): ReLU()\n",
       "  (6): Conv2d(6, 6, kernel_size=(3, 3), stride=(1, 1), padding=(1, 1))\n",
       "  (7): ReLU()\n",
       "  (8): Conv2d(6, 6, kernel_size=(3, 3), stride=(1, 1), padding=(1, 1))\n",
       "  (9): ReLU()\n",
       "  (10): MaxPool2d(kernel_size=2, stride=2, padding=0, dilation=1, ceil_mode=False)\n",
       ")"
      ]
     },
     "execution_count": 13,
     "metadata": {},
     "output_type": "execute_result"
    }
   ],
   "source": [
    "vgg_block(5,1,6)"
   ]
  },
  {
   "cell_type": "code",
   "execution_count": 15,
   "metadata": {},
   "outputs": [
    {
     "data": {
      "text/plain": [
       "torch.Size([16, 6, 14, 14])"
      ]
     },
     "execution_count": 15,
     "metadata": {},
     "output_type": "execute_result"
    }
   ],
   "source": [
    "vgg_block(5,1,6)(torch.rand(16,1,28,28)).shape"
   ]
  },
  {
   "cell_type": "code",
   "execution_count": 17,
   "metadata": {},
   "outputs": [],
   "source": [
    "def vgg(conv_arch: list) -> nn.Module:\n",
    "    \"\"\" VGG网络构建函数 \"\"\"\n",
    "    conv_block = []\n",
    "    in_channels = 1\n",
    "    # 卷积部分\n",
    "    for (num_conv, out_channels) in conv_arch:\n",
    "        conv_block.append(vgg_block(num_conv, in_channels, out_channels))\n",
    "        in_channels = out_channels\n",
    "    \n",
    "    # 全连接部分\n",
    "    model = nn.Sequential(*conv_block, \n",
    "                          nn.Flatten(), \n",
    "                          \n",
    "                          nn.Linear(7*7*out_channels, 4096), \n",
    "                          nn.ReLU(), \n",
    "                          nn.Linear(4096, 4096), \n",
    "                          nn.ReLU(), \n",
    "                          nn.Linear(4096, 10))\n",
    "    return model"
   ]
  },
  {
   "cell_type": "code",
   "execution_count": 19,
   "metadata": {},
   "outputs": [
    {
     "data": {
      "text/plain": [
       "7"
      ]
     },
     "execution_count": 19,
     "metadata": {},
     "output_type": "execute_result"
    }
   ],
   "source": [
    "224//2//2//2//2//2"
   ]
  },
  {
   "cell_type": "code",
   "execution_count": 23,
   "metadata": {},
   "outputs": [
    {
     "data": {
      "text/plain": [
       "Sequential(\n",
       "  (0): Sequential(\n",
       "    (0): Conv2d(1, 6, kernel_size=(3, 3), stride=(1, 1), padding=(1, 1))\n",
       "    (1): ReLU()\n",
       "    (2): MaxPool2d(kernel_size=2, stride=2, padding=0, dilation=1, ceil_mode=False)\n",
       "  )\n",
       "  (1): Sequential(\n",
       "    (0): Conv2d(6, 16, kernel_size=(3, 3), stride=(1, 1), padding=(1, 1))\n",
       "    (1): ReLU()\n",
       "    (2): Conv2d(16, 16, kernel_size=(3, 3), stride=(1, 1), padding=(1, 1))\n",
       "    (3): ReLU()\n",
       "    (4): MaxPool2d(kernel_size=2, stride=2, padding=0, dilation=1, ceil_mode=False)\n",
       "  )\n",
       "  (2): Sequential(\n",
       "    (0): Conv2d(16, 64, kernel_size=(3, 3), stride=(1, 1), padding=(1, 1))\n",
       "    (1): ReLU()\n",
       "    (2): Conv2d(64, 64, kernel_size=(3, 3), stride=(1, 1), padding=(1, 1))\n",
       "    (3): ReLU()\n",
       "    (4): MaxPool2d(kernel_size=2, stride=2, padding=0, dilation=1, ceil_mode=False)\n",
       "  )\n",
       "  (3): Sequential(\n",
       "    (0): Conv2d(64, 128, kernel_size=(3, 3), stride=(1, 1), padding=(1, 1))\n",
       "    (1): ReLU()\n",
       "    (2): Conv2d(128, 128, kernel_size=(3, 3), stride=(1, 1), padding=(1, 1))\n",
       "    (3): ReLU()\n",
       "    (4): MaxPool2d(kernel_size=2, stride=2, padding=0, dilation=1, ceil_mode=False)\n",
       "  )\n",
       "  (4): Sequential(\n",
       "    (0): Conv2d(128, 128, kernel_size=(3, 3), stride=(1, 1), padding=(1, 1))\n",
       "    (1): ReLU()\n",
       "    (2): Conv2d(128, 128, kernel_size=(3, 3), stride=(1, 1), padding=(1, 1))\n",
       "    (3): ReLU()\n",
       "    (4): MaxPool2d(kernel_size=2, stride=2, padding=0, dilation=1, ceil_mode=False)\n",
       "  )\n",
       "  (5): Flatten(start_dim=1, end_dim=-1)\n",
       "  (6): Linear(in_features=6272, out_features=4096, bias=True)\n",
       "  (7): ReLU()\n",
       "  (8): Linear(in_features=4096, out_features=4096, bias=True)\n",
       "  (9): ReLU()\n",
       "  (10): Linear(in_features=4096, out_features=10, bias=True)\n",
       ")"
      ]
     },
     "execution_count": 23,
     "metadata": {},
     "output_type": "execute_result"
    }
   ],
   "source": [
    "conv_arch = [(1, 6), (2, 16), (2, 64), (2, 128), (2, 128)]\n",
    "model = vgg(conv_arch)\n",
    "model"
   ]
  },
  {
   "cell_type": "code",
   "execution_count": 25,
   "metadata": {},
   "outputs": [
    {
     "data": {
      "text/plain": [
       "torch.Size([16, 10])"
      ]
     },
     "execution_count": 25,
     "metadata": {},
     "output_type": "execute_result"
    }
   ],
   "source": [
    "x = torch.rand(16, 1, 224, 224)\n",
    "output = model(x)\n",
    "output.shape"
   ]
  },
  {
   "cell_type": "code",
   "execution_count": 27,
   "metadata": {},
   "outputs": [
    {
     "data": {
      "text/plain": [
       "43082566"
      ]
     },
     "execution_count": 27,
     "metadata": {},
     "output_type": "execute_result"
    }
   ],
   "source": [
    "count_parameters(model)"
   ]
  },
  {
   "cell_type": "code",
   "execution_count": 29,
   "metadata": {},
   "outputs": [],
   "source": [
    "model = vgg(conv_arch).to(device)\n",
    "loss_func = nn.CrossEntropyLoss()\n",
    "optimizer = torch.optim.Adam(model.parameters(), lr=1e-3)"
   ]
  },
  {
   "cell_type": "code",
   "execution_count": 31,
   "metadata": {},
   "outputs": [],
   "source": [
    "def train_model(model, train_dataloader, loss_func, optimizer):\n",
    "    \"\"\" 模型训练函数 \"\"\"\n",
    "    model.train()\n",
    "    total_loss = 0.\n",
    "    for x, y in train_dataloader:\n",
    "        # x: [bs, 1, 224, 224]\n",
    "        # y: [batch_size]\n",
    "        y_hat = model(x.to(device))\n",
    "        loss = loss_func(y_hat, y.to(device))\n",
    "        \n",
    "        optimizer.zero_grad()\n",
    "        loss.backward()\n",
    "        optimizer.step()\n",
    "        \n",
    "        total_loss += loss.item()\n",
    "    return total_loss / len(train_dataloader)\n",
    "\n",
    "def test_model(model, test_dataloader, loss_func):\n",
    "    \"\"\" 模型测试函数 \"\"\"\n",
    "    model.eval()\n",
    "    \n",
    "    y_true = 0\n",
    "    total_loss = 0.\n",
    "    for x, y in test_dataloader:\n",
    "        # x: [bs, 1, 224, 224]\n",
    "        # y: [batch_size]\n",
    "        y_hat = model(x.to(device))\n",
    "        loss = loss_func(y_hat, y.to(device))\n",
    "        \n",
    "        y_true += (y.to(device) == torch.argmax(y_hat, dim=-1)).sum().item()\n",
    "        \n",
    "        total_loss += loss.item()\n",
    "\n",
    "    avg_loss = total_loss / len(train_dataloader)\n",
    "    acc = round(y_true / len(test_dataloader.dataset), 3)\n",
    "    return avg_loss, acc"
   ]
  },
  {
   "cell_type": "code",
   "execution_count": 33,
   "metadata": {},
   "outputs": [
    {
     "name": "stdout",
     "output_type": "stream",
     "text": [
      "2.0929945580502776\n",
      "0.48880872916668017\n",
      "0.32808203785977463\n",
      "0.28025402591583576\n",
      "0.25702550062473783\n"
     ]
    }
   ],
   "source": [
    "n_epoch = 5\n",
    "\n",
    "train_loss_list = []\n",
    "test_loss_list = []\n",
    "for i in range(n_epoch):\n",
    "    train_loss = train_model(model, train_dataloader, loss_func, optimizer)\n",
    "    test_loss, acc = test_model(model, train_dataloader, loss_func)\n",
    "    \n",
    "    train_loss_list.append(train_loss)\n",
    "    test_loss_list.append(test_loss)\n",
    "    print(train_loss)"
   ]
  },
  {
   "cell_type": "code",
   "execution_count": 35,
   "metadata": {},
   "outputs": [
    {
     "data": {
      "image/png": "[encoded data removed]",
      "text/plain": [
       "<Figure size 800x400 with 1 Axes>"
      ]
     },
     "metadata": {},
     "output_type": "display_data"
    }
   ],
   "source": [
    "import matplotlib.pyplot as plt\n",
    "import os\n",
    "os.environ['KMP_DUPLICATE_LIB_OK'] = 'True'\n",
    "\n",
    "plt.figure(figsize=(8, 4))\n",
    "plt.plot(train_loss_list, label=\"train loss\")\n",
    "plt.plot(test_loss_list, label=\"test loss\")\n",
    "plt.title(\"Model Loss\")\n",
    "plt.grid()\n",
    "plt.legend()\n",
    "plt.show()"
   ]
  },
  {
   "cell_type": "markdown",
   "metadata": {},
   "source": [
    "### 4.3 ResNet (Residual Network)\n",
    "\n",
    "![ResNet](https://zh.d2l.ai/_images/residual-block.svg)"
   ]
  }
 ],
 "metadata": {
  "kernelspec": {
   "display_name": "pytorch",
   "language": "python",
   "name": "pytorch"
  },
  "language_info": {
   "codemirror_mode": {
    "name": "ipython",
    "version": 3
   },
   "file_extension": ".py",
   "mimetype": "text/x-python",
   "name": "python",
   "nbconvert_exporter": "python",
   "pygments_lexer": "ipython3",
   "version": "3.9.21"
  }
 },
 "nbformat": 4,
 "nbformat_minor": 4
}
