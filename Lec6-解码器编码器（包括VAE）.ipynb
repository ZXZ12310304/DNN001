{
 "cells": [
  {
   "cell_type": "markdown",
   "metadata": {},
   "source": [
    "## Lec 6. 编码器-解码器结构\n",
    "\n",
    "- Encoder-Decoder\n",
    "    - VAE `变分自编码器` Variational Auto-Encoder\n",
    "    - Seq2Seq `序列到序列`\n",
    "    - Transformer"
   ]
  },
  {
   "cell_type": "markdown",
   "metadata": {},
   "source": [
    "### 6.1 Model 持久化\n",
    "\n",
    "- model.state_dict()\n",
    "- pickle 序列化"
   ]
  },
  {
   "cell_type": "code",
   "execution_count": 1,
   "metadata": {},
   "outputs": [
    {
     "data": {
      "text/plain": [
       "Linear(in_features=10, out_features=20, bias=True)"
      ]
     },
     "execution_count": 1,
     "metadata": {},
     "output_type": "execute_result"
    }
   ],
   "source": [
    "import torch.nn as nn\n",
    "import torch\n",
    "\n",
    "# 创建一个 Module 并进行训练\n",
    "model = nn.Linear(10, 20)\n",
    "model"
   ]
  },
  {
   "cell_type": "code",
   "execution_count": 5,
   "metadata": {},
   "outputs": [
    {
     "data": {
      "text/plain": [
       "OrderedDict([('weight',\n",
       "              tensor([[-0.2214, -0.2236, -0.0530, -0.1180, -0.1116,  0.2902,  0.0420, -0.2459,\n",
       "                        0.0530,  0.1305],\n",
       "                      [ 0.2766, -0.0654, -0.1323, -0.1683,  0.1501,  0.1471, -0.0026,  0.2945,\n",
       "                       -0.1773, -0.0111],\n",
       "                      [-0.2908,  0.2765, -0.0161, -0.2003,  0.0383, -0.2924,  0.1425, -0.0433,\n",
       "                       -0.1188, -0.2538],\n",
       "                      [ 0.2728, -0.0399,  0.2296, -0.1250, -0.0513,  0.2557,  0.1392,  0.0823,\n",
       "                        0.0929, -0.2434],\n",
       "                      [ 0.1104, -0.0328, -0.2912,  0.0256, -0.1464,  0.3112,  0.1355, -0.1493,\n",
       "                       -0.2006, -0.1784],\n",
       "                      [ 0.2524, -0.1779,  0.2819, -0.0961, -0.0350,  0.1324,  0.1082, -0.1478,\n",
       "                        0.2104,  0.0309],\n",
       "                      [-0.0455,  0.1811,  0.1198,  0.1868, -0.1522,  0.2107,  0.2231, -0.1820,\n",
       "                        0.0389,  0.2449],\n",
       "                      [ 0.1279, -0.1414, -0.0749,  0.0564, -0.1968,  0.1548,  0.0083, -0.2399,\n",
       "                       -0.2435, -0.0437],\n",
       "                      [-0.0918, -0.0241, -0.1572, -0.2750,  0.1113, -0.0156,  0.0343,  0.2870,\n",
       "                        0.2459, -0.1810],\n",
       "                      [-0.2302, -0.1921, -0.1143,  0.1284, -0.3107,  0.2245, -0.0107,  0.1068,\n",
       "                        0.1627,  0.0006],\n",
       "                      [ 0.2387,  0.0070,  0.1689, -0.2858,  0.1887,  0.2559, -0.1601,  0.0314,\n",
       "                       -0.1661, -0.1869],\n",
       "                      [-0.2295,  0.1500, -0.2213,  0.1985, -0.1653, -0.1924,  0.0242,  0.1298,\n",
       "                       -0.2689, -0.1600],\n",
       "                      [ 0.1966,  0.0357,  0.1150, -0.1442, -0.2014,  0.0582, -0.2315, -0.2435,\n",
       "                       -0.2610, -0.0169],\n",
       "                      [ 0.2831,  0.2078,  0.2403, -0.2303, -0.2410, -0.1582, -0.0571, -0.0896,\n",
       "                       -0.1475,  0.1393],\n",
       "                      [-0.1373,  0.1983, -0.0695,  0.0599,  0.0431, -0.2226,  0.1842, -0.0487,\n",
       "                       -0.2648, -0.1321],\n",
       "                      [-0.0606,  0.2242,  0.2018, -0.2917,  0.3095, -0.0762,  0.0726,  0.2636,\n",
       "                       -0.1897,  0.0092],\n",
       "                      [ 0.1025,  0.1822,  0.2865, -0.1262,  0.1216,  0.2236,  0.2978, -0.1381,\n",
       "                       -0.0754,  0.1471],\n",
       "                      [-0.0209,  0.0093,  0.2045, -0.3032,  0.0020, -0.2573, -0.0929,  0.2825,\n",
       "                        0.0395, -0.1234],\n",
       "                      [-0.2241, -0.3059, -0.3104, -0.0503, -0.3147, -0.0217,  0.0866, -0.1519,\n",
       "                        0.2285, -0.1772],\n",
       "                      [-0.0673, -0.2080,  0.0679,  0.2712, -0.1013,  0.0555,  0.2109,  0.3016,\n",
       "                        0.0589,  0.2985]])),\n",
       "             ('bias',\n",
       "              tensor([-0.0322, -0.0790, -0.2926,  0.0587,  0.2545, -0.1455, -0.1866,  0.0924,\n",
       "                       0.2886, -0.1030, -0.3044, -0.2136, -0.1640,  0.3130,  0.1037,  0.3031,\n",
       "                      -0.0327, -0.1137,  0.2047, -0.1529]))])"
      ]
     },
     "execution_count": 5,
     "metadata": {},
     "output_type": "execute_result"
    }
   ],
   "source": [
    "model.state_dict()"
   ]
  },
  {
   "cell_type": "code",
   "execution_count": 3,
   "metadata": {},
   "outputs": [],
   "source": [
    "# 保存该 Module 的所有参数为二进制数据到本地硬盘\n",
    "torch.save(model.state_dict(), \"model.pt\")"
   ]
  },
  {
   "cell_type": "code",
   "execution_count": 9,
   "metadata": {},
   "outputs": [
    {
     "data": {
      "text/plain": [
       "OrderedDict([('weight',\n",
       "              tensor([[-0.2214, -0.2236, -0.0530, -0.1180, -0.1116,  0.2902,  0.0420, -0.2459,\n",
       "                        0.0530,  0.1305],\n",
       "                      [ 0.2766, -0.0654, -0.1323, -0.1683,  0.1501,  0.1471, -0.0026,  0.2945,\n",
       "                       -0.1773, -0.0111],\n",
       "                      [-0.2908,  0.2765, -0.0161, -0.2003,  0.0383, -0.2924,  0.1425, -0.0433,\n",
       "                       -0.1188, -0.2538],\n",
       "                      [ 0.2728, -0.0399,  0.2296, -0.1250, -0.0513,  0.2557,  0.1392,  0.0823,\n",
       "                        0.0929, -0.2434],\n",
       "                      [ 0.1104, -0.0328, -0.2912,  0.0256, -0.1464,  0.3112,  0.1355, -0.1493,\n",
       "                       -0.2006, -0.1784],\n",
       "                      [ 0.2524, -0.1779,  0.2819, -0.0961, -0.0350,  0.1324,  0.1082, -0.1478,\n",
       "                        0.2104,  0.0309],\n",
       "                      [-0.0455,  0.1811,  0.1198,  0.1868, -0.1522,  0.2107,  0.2231, -0.1820,\n",
       "                        0.0389,  0.2449],\n",
       "                      [ 0.1279, -0.1414, -0.0749,  0.0564, -0.1968,  0.1548,  0.0083, -0.2399,\n",
       "                       -0.2435, -0.0437],\n",
       "                      [-0.0918, -0.0241, -0.1572, -0.2750,  0.1113, -0.0156,  0.0343,  0.2870,\n",
       "                        0.2459, -0.1810],\n",
       "                      [-0.2302, -0.1921, -0.1143,  0.1284, -0.3107,  0.2245, -0.0107,  0.1068,\n",
       "                        0.1627,  0.0006],\n",
       "                      [ 0.2387,  0.0070,  0.1689, -0.2858,  0.1887,  0.2559, -0.1601,  0.0314,\n",
       "                       -0.1661, -0.1869],\n",
       "                      [-0.2295,  0.1500, -0.2213,  0.1985, -0.1653, -0.1924,  0.0242,  0.1298,\n",
       "                       -0.2689, -0.1600],\n",
       "                      [ 0.1966,  0.0357,  0.1150, -0.1442, -0.2014,  0.0582, -0.2315, -0.2435,\n",
       "                       -0.2610, -0.0169],\n",
       "                      [ 0.2831,  0.2078,  0.2403, -0.2303, -0.2410, -0.1582, -0.0571, -0.0896,\n",
       "                       -0.1475,  0.1393],\n",
       "                      [-0.1373,  0.1983, -0.0695,  0.0599,  0.0431, -0.2226,  0.1842, -0.0487,\n",
       "                       -0.2648, -0.1321],\n",
       "                      [-0.0606,  0.2242,  0.2018, -0.2917,  0.3095, -0.0762,  0.0726,  0.2636,\n",
       "                       -0.1897,  0.0092],\n",
       "                      [ 0.1025,  0.1822,  0.2865, -0.1262,  0.1216,  0.2236,  0.2978, -0.1381,\n",
       "                       -0.0754,  0.1471],\n",
       "                      [-0.0209,  0.0093,  0.2045, -0.3032,  0.0020, -0.2573, -0.0929,  0.2825,\n",
       "                        0.0395, -0.1234],\n",
       "                      [-0.2241, -0.3059, -0.3104, -0.0503, -0.3147, -0.0217,  0.0866, -0.1519,\n",
       "                        0.2285, -0.1772],\n",
       "                      [-0.0673, -0.2080,  0.0679,  0.2712, -0.1013,  0.0555,  0.2109,  0.3016,\n",
       "                        0.0589,  0.2985]])),\n",
       "             ('bias',\n",
       "              tensor([-0.0322, -0.0790, -0.2926,  0.0587,  0.2545, -0.1455, -0.1866,  0.0924,\n",
       "                       0.2886, -0.1030, -0.3044, -0.2136, -0.1640,  0.3130,  0.1037,  0.3031,\n",
       "                      -0.0327, -0.1137,  0.2047, -0.1529]))])"
      ]
     },
     "execution_count": 9,
     "metadata": {},
     "output_type": "execute_result"
    }
   ],
   "source": [
    "# 重新创建一个新的随机参数的同结构的Module实例\n",
    "model2 = nn.Linear(10, 20)\n",
    "\n",
    "# 从硬盘中载入之前保存的参数二进制数据，并更新到 model2上\n",
    "model2.load_state_dict(torch.load(\"model.pt\"))\n",
    "model2.state_dict()"
   ]
  },
  {
   "cell_type": "code",
   "execution_count": 11,
   "metadata": {},
   "outputs": [],
   "source": [
    "import pickle\n",
    "\n",
    "with open(\"model.pkl\", \"wb\") as f:\n",
    "    pickle.dump(model, f)"
   ]
  },
  {
   "cell_type": "code",
   "execution_count": 13,
   "metadata": {},
   "outputs": [],
   "source": [
    "with open(\"model.pkl\", \"rb\") as f:\n",
    "    model2 = pickle.load(f)"
   ]
  },
  {
   "cell_type": "code",
   "execution_count": 15,
   "metadata": {},
   "outputs": [
    {
     "data": {
      "text/plain": [
       "OrderedDict([('weight',\n",
       "              tensor([[-0.2214, -0.2236, -0.0530, -0.1180, -0.1116,  0.2902,  0.0420, -0.2459,\n",
       "                        0.0530,  0.1305],\n",
       "                      [ 0.2766, -0.0654, -0.1323, -0.1683,  0.1501,  0.1471, -0.0026,  0.2945,\n",
       "                       -0.1773, -0.0111],\n",
       "                      [-0.2908,  0.2765, -0.0161, -0.2003,  0.0383, -0.2924,  0.1425, -0.0433,\n",
       "                       -0.1188, -0.2538],\n",
       "                      [ 0.2728, -0.0399,  0.2296, -0.1250, -0.0513,  0.2557,  0.1392,  0.0823,\n",
       "                        0.0929, -0.2434],\n",
       "                      [ 0.1104, -0.0328, -0.2912,  0.0256, -0.1464,  0.3112,  0.1355, -0.1493,\n",
       "                       -0.2006, -0.1784],\n",
       "                      [ 0.2524, -0.1779,  0.2819, -0.0961, -0.0350,  0.1324,  0.1082, -0.1478,\n",
       "                        0.2104,  0.0309],\n",
       "                      [-0.0455,  0.1811,  0.1198,  0.1868, -0.1522,  0.2107,  0.2231, -0.1820,\n",
       "                        0.0389,  0.2449],\n",
       "                      [ 0.1279, -0.1414, -0.0749,  0.0564, -0.1968,  0.1548,  0.0083, -0.2399,\n",
       "                       -0.2435, -0.0437],\n",
       "                      [-0.0918, -0.0241, -0.1572, -0.2750,  0.1113, -0.0156,  0.0343,  0.2870,\n",
       "                        0.2459, -0.1810],\n",
       "                      [-0.2302, -0.1921, -0.1143,  0.1284, -0.3107,  0.2245, -0.0107,  0.1068,\n",
       "                        0.1627,  0.0006],\n",
       "                      [ 0.2387,  0.0070,  0.1689, -0.2858,  0.1887,  0.2559, -0.1601,  0.0314,\n",
       "                       -0.1661, -0.1869],\n",
       "                      [-0.2295,  0.1500, -0.2213,  0.1985, -0.1653, -0.1924,  0.0242,  0.1298,\n",
       "                       -0.2689, -0.1600],\n",
       "                      [ 0.1966,  0.0357,  0.1150, -0.1442, -0.2014,  0.0582, -0.2315, -0.2435,\n",
       "                       -0.2610, -0.0169],\n",
       "                      [ 0.2831,  0.2078,  0.2403, -0.2303, -0.2410, -0.1582, -0.0571, -0.0896,\n",
       "                       -0.1475,  0.1393],\n",
       "                      [-0.1373,  0.1983, -0.0695,  0.0599,  0.0431, -0.2226,  0.1842, -0.0487,\n",
       "                       -0.2648, -0.1321],\n",
       "                      [-0.0606,  0.2242,  0.2018, -0.2917,  0.3095, -0.0762,  0.0726,  0.2636,\n",
       "                       -0.1897,  0.0092],\n",
       "                      [ 0.1025,  0.1822,  0.2865, -0.1262,  0.1216,  0.2236,  0.2978, -0.1381,\n",
       "                       -0.0754,  0.1471],\n",
       "                      [-0.0209,  0.0093,  0.2045, -0.3032,  0.0020, -0.2573, -0.0929,  0.2825,\n",
       "                        0.0395, -0.1234],\n",
       "                      [-0.2241, -0.3059, -0.3104, -0.0503, -0.3147, -0.0217,  0.0866, -0.1519,\n",
       "                        0.2285, -0.1772],\n",
       "                      [-0.0673, -0.2080,  0.0679,  0.2712, -0.1013,  0.0555,  0.2109,  0.3016,\n",
       "                        0.0589,  0.2985]])),\n",
       "             ('bias',\n",
       "              tensor([-0.0322, -0.0790, -0.2926,  0.0587,  0.2545, -0.1455, -0.1866,  0.0924,\n",
       "                       0.2886, -0.1030, -0.3044, -0.2136, -0.1640,  0.3130,  0.1037,  0.3031,\n",
       "                      -0.0327, -0.1137,  0.2047, -0.1529]))])"
      ]
     },
     "execution_count": 15,
     "metadata": {},
     "output_type": "execute_result"
    }
   ],
   "source": [
    "model2.state_dict()"
   ]
  },
  {
   "cell_type": "markdown",
   "metadata": {},
   "source": [
    "### 6.2 VAE (Variational Auto-Encoder)\n",
    "\n",
    "- VAE 使用场景\n",
    "    - 图像生成, 文本生成, 音频生成....\n",
    "    - 数据增强\n",
    "    - ......"
   ]
  },
  {
   "cell_type": "code",
   "execution_count": 17,
   "metadata": {},
   "outputs": [],
   "source": [
    "import torch\n",
    "import torch.nn as nn\n",
    "import torch.nn.functional as F"
   ]
  },
  {
   "cell_type": "code",
   "execution_count": 19,
   "metadata": {},
   "outputs": [
    {
     "data": {
      "text/plain": [
       "784"
      ]
     },
     "execution_count": 19,
     "metadata": {},
     "output_type": "execute_result"
    }
   ],
   "source": [
    "28**2"
   ]
  },
  {
   "cell_type": "code",
   "execution_count": 21,
   "metadata": {},
   "outputs": [],
   "source": [
    "class VAE(nn.Module):\n",
    "    \"\"\" 变分自编码器 \"\"\"\n",
    "    def __init__(self, input_size=784, hidden_size=256, latent_size=32):\n",
    "        super().__init__()\n",
    "        # Encoder 编码器\n",
    "        self.encoder = nn.Sequential(nn.Linear(input_size, hidden_size), \n",
    "                                     nn.ReLU(), \n",
    "                                     nn.Linear(hidden_size, hidden_size//2), \n",
    "                                     nn.ReLU())\n",
    "        \n",
    "        # 计算 Latent Space的均值和对数方差\n",
    "        self.fc_mu = nn.Linear(hidden_size//2, latent_size)\n",
    "        self.fc_logvar = nn.Linear(hidden_size//2, latent_size)\n",
    "        \n",
    "        # Decoder 解码器\n",
    "        self.decoder = nn.Sequential(nn.Linear(latent_size, hidden_size//2), \n",
    "                                     nn.ReLU(), \n",
    "                                     nn.Linear(hidden_size//2, hidden_size), \n",
    "                                     nn.ReLU(), \n",
    "                                     nn.Linear(hidden_size, input_size), \n",
    "                                     nn.Sigmoid())   # 将输出压缩在 (0, 1) 的范围内\n",
    "        \n",
    "    def reparameterize(self, mu, logvar):\n",
    "        \"\"\" 重参数化方法 \"\"\"\n",
    "        std = torch.exp(0.5 * logvar)\n",
    "        eps = torch.randn_like(std)\n",
    "        return mu + eps * std\n",
    "\n",
    "    def forward(self, x):\n",
    "        \"\"\" 前向传播方法 \"\"\"\n",
    "        # Encoding 编码过程\n",
    "        hidden = self.encoder(x)\n",
    "        mu = self.fc_mu(hidden)\n",
    "        logvar = self.fc_logvar(hidden)\n",
    "\n",
    "        # Reparameterize 重参数化过程\n",
    "        z = self.reparameterize(mu, logvar)\n",
    "\n",
    "        # Decoding 解码过程\n",
    "        x_recon = self.decoder(z)\n",
    "        return x_recon, mu, logvar"
   ]
  },
  {
   "cell_type": "code",
   "execution_count": 23,
   "metadata": {},
   "outputs": [
    {
     "data": {
      "text/plain": [
       "(torch.Size([16, 784]), torch.Size([16, 32]), torch.Size([16, 32]))"
      ]
     },
     "execution_count": 23,
     "metadata": {},
     "output_type": "execute_result"
    }
   ],
   "source": [
    "model = VAE()\n",
    "x_recon, mu, logvar = model(torch.rand(16, 784))\n",
    "x_recon.shape, mu.shape, logvar.shape"
   ]
  },
  {
   "cell_type": "markdown",
   "metadata": {},
   "source": [
    "#### 1. 数据集"
   ]
  },
  {
   "cell_type": "code",
   "execution_count": 25,
   "metadata": {},
   "outputs": [],
   "source": [
    "import torchvision\n",
    "import torchvision.transforms as transforms\n",
    "from torch.utils.data import DataLoader\n",
    "\n",
    "trans = transforms.Compose([transforms.ToTensor()])\n",
    "\n",
    "dataset = torchvision.datasets.FashionMNIST(root=\"../data\", train=False, transform=trans, download=True)\n",
    "dataloader = DataLoader(dataset, batch_size=256, shuffle=True)"
   ]
  },
  {
   "cell_type": "markdown",
   "metadata": {},
   "source": [
    "#### 2. 损失函数"
   ]
  },
  {
   "cell_type": "code",
   "execution_count": 39,
   "metadata": {},
   "outputs": [],
   "source": [
    "def vae_loss(x_recon, x, mu, logvar):\n",
    "    \"\"\" 自定义损失函数, 用于描述重建损失 Loss = 重构损失 + KL散度 \"\"\"\n",
    "    # 重构损失\n",
    "    BCE = F.binary_cross_entropy(x_recon, x.view(-1, 784), reduction=\"sum\")\n",
    "    \n",
    "    # KL散度\n",
    "    KLD = -0.5 * torch.sum(1 + logvar - mu.pow(2) - logvar.exp())\n",
    "    return BCE + KLD"
   ]
  },
  {
   "cell_type": "markdown",
   "metadata": {},
   "source": [
    "#### 3. 构建模型"
   ]
  },
  {
   "cell_type": "code",
   "execution_count": 42,
   "metadata": {},
   "outputs": [
    {
     "data": {
      "text/plain": [
       "device(type='cuda')"
      ]
     },
     "execution_count": 42,
     "metadata": {},
     "output_type": "execute_result"
    }
   ],
   "source": [
    "device = torch.device(\"cuda\") if torch.cuda.is_available() else torch.device(\"cpu\")\n",
    "device"
   ]
  },
  {
   "cell_type": "code",
   "execution_count": 44,
   "metadata": {},
   "outputs": [],
   "source": [
    "model = VAE().to(device)\n",
    "loss_func = vae_loss\n",
    "optimizer = torch.optim.Adam(model.parameters(), lr=1e-3)"
   ]
  },
  {
   "cell_type": "markdown",
   "metadata": {},
   "source": [
    "#### 4. 训练模型"
   ]
  },
  {
   "cell_type": "code",
   "execution_count": 51,
   "metadata": {},
   "outputs": [],
   "source": [
    "def train_model(model, dataloader, loss_func, optimizer):\n",
    "    \"\"\" 模型训练函数 \"\"\"\n",
    "    model.train()\n",
    "    total_loss = 0\n",
    "    for x, _ in dataloader:\n",
    "        x_recon, mu, logvar = model(x.to(device).view(-1, 784))\n",
    "        loss = loss_func(x_recon, x.to(device), mu, logvar)\n",
    "        \n",
    "        optimizer.zero_grad()\n",
    "        loss.backward()\n",
    "        optimizer.step()\n",
    "        \n",
    "        total_loss += loss.item()\n",
    "    return total_loss / len(dataloader)"
   ]
  },
  {
   "cell_type": "code",
   "execution_count": 53,
   "metadata": {},
   "outputs": [
    {
     "name": "stdout",
     "output_type": "stream",
     "text": [
      "Epoch 1 loss: 105735.1605\n",
      "Epoch 2 loss: 84508.9672\n",
      "Epoch 3 loss: 76878.4308\n",
      "Epoch 4 loss: 74726.2701\n",
      "Epoch 5 loss: 72988.5095\n",
      "Epoch 6 loss: 71488.8895\n",
      "Epoch 7 loss: 70332.4116\n",
      "Epoch 8 loss: 69436.2149\n",
      "Epoch 9 loss: 68742.4215\n",
      "Epoch 10 loss: 67927.6496\n",
      "Epoch 11 loss: 67245.9074\n",
      "Epoch 12 loss: 66662.2193\n",
      "Epoch 13 loss: 66402.7839\n",
      "Epoch 14 loss: 65824.9026\n",
      "Epoch 15 loss: 65461.7239\n",
      "Epoch 16 loss: 65214.891\n",
      "Epoch 17 loss: 65021.4579\n",
      "Epoch 18 loss: 64748.2329\n",
      "Epoch 19 loss: 64530.0358\n",
      "Epoch 20 loss: 64335.8569\n",
      "Epoch 21 loss: 64123.0041\n",
      "Epoch 22 loss: 63958.0633\n",
      "Epoch 23 loss: 63756.0304\n",
      "Epoch 24 loss: 63673.8261\n",
      "Epoch 25 loss: 63502.3594\n",
      "Epoch 26 loss: 63342.9389\n",
      "Epoch 27 loss: 63263.9415\n",
      "Epoch 28 loss: 63143.5029\n",
      "Epoch 29 loss: 62981.5405\n",
      "Epoch 30 loss: 62919.7666\n",
      "Epoch 31 loss: 62812.5696\n",
      "Epoch 32 loss: 62738.8578\n",
      "Epoch 33 loss: 62638.2282\n",
      "Epoch 34 loss: 62546.3775\n",
      "Epoch 35 loss: 62514.7489\n",
      "Epoch 36 loss: 62443.7687\n",
      "Epoch 37 loss: 62323.3109\n",
      "Epoch 38 loss: 62261.6365\n",
      "Epoch 39 loss: 62219.512\n",
      "Epoch 40 loss: 62165.1137\n",
      "Epoch 41 loss: 62160.5942\n",
      "Epoch 42 loss: 62069.2204\n",
      "Epoch 43 loss: 62003.1268\n",
      "Epoch 44 loss: 61958.8792\n",
      "Epoch 45 loss: 61921.1938\n",
      "Epoch 46 loss: 61850.8717\n",
      "Epoch 47 loss: 61778.4652\n",
      "Epoch 48 loss: 61788.3565\n",
      "Epoch 49 loss: 61743.9625\n",
      "Epoch 50 loss: 61782.6738\n",
      "Epoch 51 loss: 61688.391\n",
      "Epoch 52 loss: 61630.1308\n",
      "Epoch 53 loss: 61596.8354\n",
      "Epoch 54 loss: 61546.3949\n",
      "Epoch 55 loss: 61523.3861\n",
      "Epoch 56 loss: 61484.4486\n",
      "Epoch 57 loss: 61489.3815\n",
      "Epoch 58 loss: 61443.7911\n",
      "Epoch 59 loss: 61417.9191\n",
      "Epoch 60 loss: 61348.9373\n",
      "Epoch 61 loss: 61313.4929\n",
      "Epoch 62 loss: 61317.2774\n",
      "Epoch 63 loss: 61301.5781\n",
      "Epoch 64 loss: 61245.8909\n",
      "Epoch 65 loss: 61241.753\n",
      "Epoch 66 loss: 61201.4831\n",
      "Epoch 67 loss: 61195.5225\n",
      "Epoch 68 loss: 61144.5941\n",
      "Epoch 69 loss: 61156.7079\n",
      "Epoch 70 loss: 61090.7725\n",
      "Epoch 71 loss: 61087.0243\n",
      "Epoch 72 loss: 61068.2111\n",
      "Epoch 73 loss: 61003.9052\n",
      "Epoch 74 loss: 61004.3865\n",
      "Epoch 75 loss: 60974.0682\n",
      "Epoch 76 loss: 61060.5006\n",
      "Epoch 77 loss: 60947.0171\n",
      "Epoch 78 loss: 60873.1073\n",
      "Epoch 79 loss: 60873.0232\n",
      "Epoch 80 loss: 60869.2918\n",
      "Epoch 81 loss: 60876.9313\n",
      "Epoch 82 loss: 60846.8438\n",
      "Epoch 83 loss: 60829.5855\n",
      "Epoch 84 loss: 60754.0695\n",
      "Epoch 85 loss: 60834.0449\n",
      "Epoch 86 loss: 60798.4529\n",
      "Epoch 87 loss: 60712.2916\n",
      "Epoch 88 loss: 60715.3835\n",
      "Epoch 89 loss: 60681.9726\n",
      "Epoch 90 loss: 60682.824\n",
      "Epoch 91 loss: 60686.5092\n",
      "Epoch 92 loss: 60636.0744\n",
      "Epoch 93 loss: 60636.8049\n",
      "Epoch 94 loss: 60650.8853\n",
      "Epoch 95 loss: 60648.1298\n",
      "Epoch 96 loss: 60629.9434\n",
      "Epoch 97 loss: 60579.0596\n",
      "Epoch 98 loss: 60578.9009\n",
      "Epoch 99 loss: 60534.7359\n",
      "Epoch 100 loss: 60537.6295\n",
      "Epoch 101 loss: 60559.3503\n",
      "Epoch 102 loss: 60550.7881\n",
      "Epoch 103 loss: 60501.1283\n",
      "Epoch 104 loss: 60514.6307\n",
      "Epoch 105 loss: 60485.4463\n",
      "Epoch 106 loss: 60466.2418\n",
      "Epoch 107 loss: 60455.0375\n",
      "Epoch 108 loss: 60464.1349\n",
      "Epoch 109 loss: 60476.5314\n",
      "Epoch 110 loss: 60487.0951\n",
      "Epoch 111 loss: 60421.4552\n",
      "Epoch 112 loss: 60404.9627\n",
      "Epoch 113 loss: 60395.1321\n",
      "Epoch 114 loss: 60381.9336\n",
      "Epoch 115 loss: 60376.7345\n",
      "Epoch 116 loss: 60343.2619\n",
      "Epoch 117 loss: 60343.6869\n",
      "Epoch 118 loss: 60330.2098\n",
      "Epoch 119 loss: 60335.827\n",
      "Epoch 120 loss: 60358.4945\n",
      "Epoch 121 loss: 60309.8706\n",
      "Epoch 122 loss: 60322.746\n",
      "Epoch 123 loss: 60328.8987\n",
      "Epoch 124 loss: 60297.1726\n",
      "Epoch 125 loss: 60262.7913\n",
      "Epoch 126 loss: 60274.0737\n",
      "Epoch 127 loss: 60275.8704\n",
      "Epoch 128 loss: 60287.4445\n",
      "Epoch 129 loss: 60276.6206\n",
      "Epoch 130 loss: 60275.3331\n",
      "Epoch 131 loss: 60247.8466\n",
      "Epoch 132 loss: 60225.5571\n",
      "Epoch 133 loss: 60201.5931\n",
      "Epoch 134 loss: 60190.1156\n",
      "Epoch 135 loss: 60213.0659\n",
      "Epoch 136 loss: 60180.417\n",
      "Epoch 137 loss: 60158.0626\n",
      "Epoch 138 loss: 60168.627\n",
      "Epoch 139 loss: 60169.3154\n",
      "Epoch 140 loss: 60165.45\n",
      "Epoch 141 loss: 60154.1616\n",
      "Epoch 142 loss: 60137.0389\n",
      "Epoch 143 loss: 60139.2479\n",
      "Epoch 144 loss: 60124.1832\n",
      "Epoch 145 loss: 60148.0844\n",
      "Epoch 146 loss: 60131.9183\n",
      "Epoch 147 loss: 60114.2274\n",
      "Epoch 148 loss: 60126.0953\n",
      "Epoch 149 loss: 60087.2764\n",
      "Epoch 150 loss: 60092.141\n",
      "Epoch 151 loss: 60095.7281\n",
      "Epoch 152 loss: 60064.3138\n",
      "Epoch 153 loss: 60058.2186\n",
      "Epoch 154 loss: 60066.7278\n",
      "Epoch 155 loss: 60069.7903\n",
      "Epoch 156 loss: 60058.789\n",
      "Epoch 157 loss: 60059.0375\n",
      "Epoch 158 loss: 60011.2424\n",
      "Epoch 159 loss: 60030.1904\n",
      "Epoch 160 loss: 60054.7782\n",
      "Epoch 161 loss: 60015.4354\n",
      "Epoch 162 loss: 60004.2525\n",
      "Epoch 163 loss: 60004.7259\n",
      "Epoch 164 loss: 60008.3331\n",
      "Epoch 165 loss: 59995.8697\n",
      "Epoch 166 loss: 59988.7921\n",
      "Epoch 167 loss: 59970.3715\n",
      "Epoch 168 loss: 59947.2409\n",
      "Epoch 169 loss: 59954.1199\n",
      "Epoch 170 loss: 59965.0653\n",
      "Epoch 171 loss: 59960.7101\n",
      "Epoch 172 loss: 59947.045\n",
      "Epoch 173 loss: 59946.0706\n",
      "Epoch 174 loss: 59944.3353\n",
      "Epoch 175 loss: 59960.6334\n",
      "Epoch 176 loss: 59909.2758\n",
      "Epoch 177 loss: 59919.8344\n",
      "Epoch 178 loss: 59932.5534\n",
      "Epoch 179 loss: 59902.9949\n",
      "Epoch 180 loss: 59898.2016\n",
      "Epoch 181 loss: 59901.9068\n",
      "Epoch 182 loss: 59896.1565\n",
      "Epoch 183 loss: 59886.1987\n",
      "Epoch 184 loss: 59903.2387\n",
      "Epoch 185 loss: 59875.4012\n",
      "Epoch 186 loss: 59877.3333\n",
      "Epoch 187 loss: 59879.2945\n",
      "Epoch 188 loss: 59846.1828\n",
      "Epoch 189 loss: 59866.0028\n",
      "Epoch 190 loss: 59866.737\n",
      "Epoch 191 loss: 59849.3474\n",
      "Epoch 192 loss: 59844.4377\n",
      "Epoch 193 loss: 59831.664\n",
      "Epoch 194 loss: 59833.3844\n",
      "Epoch 195 loss: 59869.8869\n",
      "Epoch 196 loss: 59843.8268\n",
      "Epoch 197 loss: 59822.7685\n",
      "Epoch 198 loss: 59826.6185\n",
      "Epoch 199 loss: 59852.2318\n",
      "Epoch 200 loss: 59822.3871\n"
     ]
    }
   ],
   "source": [
    "n_epoch = 200\n",
    "\n",
    "train_loss = []\n",
    "for i in range(n_epoch):\n",
    "    loss = train_model(model, dataloader, loss_func, optimizer)\n",
    "    train_loss.append(loss)\n",
    "    print(f\"Epoch {i+1} loss: {round(loss, 4)}\")"
   ]
  },
  {
   "cell_type": "code",
   "execution_count": 57,
   "metadata": {},
   "outputs": [
    {
     "data": {
      "image/png": "[encoded data removed]",
      "text/plain": [
       "<Figure size 800x400 with 1 Axes>"
      ]
     },
     "metadata": {},
     "output_type": "display_data"
    }
   ],
   "source": [
    "import matplotlib.pyplot as plt\n",
    "import os\n",
    "os.environ['KMP_DUPLICATE_LIB_OK'] = 'True'\n",
    "\n",
    "plt.figure(figsize=(8, 4))\n",
    "plt.plot(train_loss, label=\"train loss\")\n",
    "plt.title(\"Model Loss\")\n",
    "plt.grid()\n",
    "plt.legend()\n",
    "plt.show()"
   ]
  },
  {
   "cell_type": "code",
   "execution_count": 73,
   "metadata": {},
   "outputs": [
    {
     "data": {
      "text/plain": [
       "torch.Size([16, 1, 28, 28])"
      ]
     },
     "execution_count": 73,
     "metadata": {},
     "output_type": "execute_result"
    }
   ],
   "source": [
    "# 使用 VAE 数据增强\n",
    "with torch.no_grad():\n",
    "    # 从标准正态分布中采样 Latent 潜层特征\n",
    "    z = torch.randn(16, 32).to(device) \n",
    "    # 通过 VAE-Decoder 将采样得到的 潜层特征 z 生成样本数据 (28x28的图像数据)\n",
    "    generated_samples = model.decoder(z).view(-1, 1, 28, 28).cpu()\n",
    "    \n",
    "generated_samples.shape"
   ]
  },
  {
   "cell_type": "code",
   "execution_count": 74,
   "metadata": {},
   "outputs": [
    {
     "data": {
      "text/plain": [
       "<matplotlib.image.AxesImage at 0x2abbb3e7da0>"
      ]
     },
     "execution_count": 74,
     "metadata": {},
     "output_type": "execute_result"
    },
    {
     "data": {
      "image/png": "[encoded data removed]",
      "text/plain": [
       "<Figure size 432x288 with 1 Axes>"
      ]
     },
     "metadata": {
      "needs_background": "light"
     },
     "output_type": "display_data"
    }
   ],
   "source": [
    "plt.imshow(torchvision.utils.make_grid(generated_samples)[0], cmap=\"Greys\")"
   ]
  }
 ],
 "metadata": {
  "kernelspec": {
   "display_name": "pytorch",
   "language": "python",
   "name": "pytorch"
  },
  "language_info": {
   "codemirror_mode": {
    "name": "ipython",
    "version": 3
   },
   "file_extension": ".py",
   "mimetype": "text/x-python",
   "name": "python",
   "nbconvert_exporter": "python",
   "pygments_lexer": "ipython3",
   "version": "3.9.21"
  }
 },
 "nbformat": 4,
 "nbformat_minor": 4
}
